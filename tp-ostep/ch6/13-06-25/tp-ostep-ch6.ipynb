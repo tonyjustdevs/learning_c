{
 "cells": [
  {
   "cell_type": "markdown",
   "metadata": {},
   "source": [
    "# OSTEP CH6: Mechanism: Limited Direct Execution\n",
    "\n",
    "Implement CPU Virtualisatoin with\n",
    "- limited direct execution (i.e. some key low-level mechanisms)\n",
    "- steps:\n",
    "    - run program from cpu\n",
    "    - set limits on processes without OS assistance\n",
    "Sections:\n",
    "0. Virtualisation\n",
    "- time sharing\n",
    "- challenges:\n",
    "    - performance\n",
    "    - control\n",
    "\n",
    "1. What is Limited Direct Execution (LDE):\n",
    "- A basic virt technique\n",
    "- Open program directly in CPU\n",
    "    - **OS** actions overview\n",
    "    - **Program** actions overview\n",
    "- Whats needed to Virt CPU:\n",
    "    - How to ensure program does what we want only, efficiently?\n",
    "    - How OS implement time sharing, to switch processes, thurs virt the cpu?\n",
    "    - what is the `limited` part?\n",
    "        - limits on running programs?\n",
    "\n",
    "2. LDE Problem 1: Restricted Operations\n",
    "- DE \n",
    "    - pros: fast, runs native on hardware CPU\n",
    "    - cons: problem whence process wants perform **restricted operation**, e.g.:\n",
    "        - I/O request to disk\n",
    "        - gain access more system resources: cpu, memory;\n",
    "    - `crux`: how process to perform *i/o* & other *restricted operations* **without giving process complete control over system**\n",
    "- `aside`: system call vs c-procedure call\n",
    "- `user mode`:\n",
    "- `kernel mode`:\n",
    "- `protected control transfer`:\n",
    "- hardware trapping mechanism:\n",
    "    - `trap` special instruction:\n",
    "    - `return-from-trap`:\n",
    "    - `kernel stack` per-process:\n",
    "    - `trap table` set up at boot time:\n",
    "    - `trap handlers`:\n",
    "- `LDE` protocol\n",
    "    - two phases: \n",
    "        - boot time: trap table & CPU priviledged instruction\n",
    "        - running process: \n",
    "            - start: node to plist, alloc_mem, retrun trap, start process, user mode\n",
    "            - syscall: trap back os, os handles, return control return-from-trap to process\n",
    "            - complete: process returns to main/stub code to exit properly\n",
    "    - timeline: process, in/out kernel, registers (gen purpose reg, program counter), save to/fro hardware\n",
    "- `system-call number`:\n",
    "    - `level of indirection`:\n",
    "- `priviledged` operation:\n",
    "3. LDE Problem 2: Switching Between Processes\n",
    "4. LDE Concurrency\n",
    "\n"
   ]
  },
  {
   "cell_type": "code",
   "execution_count": null,
   "metadata": {
    "vscode": {
     "languageId": "plaintext"
    }
   },
   "outputs": [],
   "source": []
  }
 ],
 "metadata": {
  "kernelspec": {
   "display_name": ".venv",
   "language": "python",
   "name": "python3"
  },
  "language_info": {
   "codemirror_mode": {
    "name": "ipython",
    "version": 3
   },
   "file_extension": ".py",
   "mimetype": "text/x-python",
   "name": "python",
   "nbconvert_exporter": "python",
   "pygments_lexer": "ipython3",
   "version": "3.13.3"
  }
 },
 "nbformat": 4,
 "nbformat_minor": 2
}
