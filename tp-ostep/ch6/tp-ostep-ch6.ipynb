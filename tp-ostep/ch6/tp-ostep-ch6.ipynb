{
 "cells": [
  {
   "cell_type": "markdown",
   "metadata": {},
   "source": []
  },
  {
   "cell_type": "markdown",
   "metadata": {},
   "source": [
    "# OSTEP CH6: Mechanism: Limited Direct Execution\n"
   ]
  },
  {
   "cell_type": "markdown",
   "metadata": {},
   "source": [
    "# 1. Virtualisation of CPU\n",
    "\n",
    "## 1.1 Definition:\n",
    "- OS run many jobs (processes) simultaneously\n",
    "- Sharing one physical CPU (i.e. time sharing)\n",
    "\n",
    "## 1.2 Challenges\n",
    "- **Performance**: \n",
    "    - Implement without excessive overhead on system.\n",
    "    - Efficiently\n",
    "- **Control** (over processes): Otherwise \n",
    "    - processes can run forever\n",
    "    - procesess take over machine\n",
    "    - processes can access disallowed infromation"
   ]
  },
  {
   "cell_type": "markdown",
   "metadata": {
    "vscode": {
     "languageId": "plaintext"
    }
   },
   "source": [
    "# 2. Virtualisation Techniques\n",
    "\n",
    "# 2.1 Direct Execution\n",
    "**How**: Run program natively on hardware CPU  \n",
    "\n",
    "**Pro**: Fast  \n",
    "\n",
    "**Con**: Problem 1: **Restriction Operations**  \n",
    "- Process unable to perform **restricted operations** on CPU  \n",
    "- How to perform **Restricted Operations**?  \n",
    "    - I.e. I/O & other restricted operations\n",
    "    - In controlled (process) manner \n",
    "\n",
    "# 2.2 Privledge Separation\n",
    "- Disallowing untrusted programs having full control of our system\n",
    "- Prevent memory corruption, crashing OS, or private data access\n",
    "\n",
    "# 2.3 Processor Modes: `User` vs `Kernel`\n",
    "- `User`: limited privledges\n",
    "- `Kernel`: full privledges"
   ]
  },
  {
   "cell_type": "markdown",
   "metadata": {},
   "source": [
    "\n",
    "# 3. CPU vs OS: Primer\n"
   ]
  },
  {
   "cell_type": "markdown",
   "metadata": {},
   "source": [
    "## 3.1 Layers & Modes\n",
    "\n",
    "|Layer|Provides|Used by|Co-evolution Notes|\n",
    "|-----|--------|-------|------------------|\n",
    "|**`OS`<br>(software)**|**uses** the ***mechanism***:<br> - to enforce control, protection & abstraction|User Programs|OS have kernel/user mode:<br> - *because* CPU **supports** it|\n",
    "|**`CPU`<br>(hardware)**|**provides** the ***mechanism***:<br> - for **user** & **kernel** modes|OS kernel|Modern CPU's support it:<br> - *because* **OS's need it**|\n",
    "\n",
    "In laymens:\n",
    "- the `CPU` makes it ***possible***\n",
    "- the `OS` makes it ***useful***"
   ]
  },
  {
   "cell_type": "markdown",
   "metadata": {},
   "source": [
    "# 4. User Process & Privledged Operation\n",
    "**Problem**: \n",
    "- What should a `user` **process** do when it wishes to perform a `priviledged` **operation**?\n",
    "\n",
    "**Solution**: \n",
    "- Modern hardware provides user programs to perform a `system call`:\n",
    "    - Allow kernel to carefully expose key functionality to user programs\n",
    "    - E.g. accessing file system, creat/destroy processes, communicate other procs, allocate more memory.\n",
    "    \n",
    "**How to execute `system call`**:\n",
    "- Program issue special `trap` instruction (trap into kernel, raise priviledge level to kernel mode, perform operations, return from trap)\n",
    "- Hardware (when trapping) must ***save*** **caller's** `registers` to return correctly after OS issues return-from-trap.\n",
    "    - x86: Processor push program counter, flags, other regs, onto a per-process `kernel stack`, ret-f-trap pops values off the stack and resume user program\n",
    "\n",
    "**How does `Trap` know what code to run inside OS**\n",
    "- `Kernel` must ***control*** what code executes upon trap by setting up `trap table` at boot time.\n"
   ]
  },
  {
   "cell_type": "markdown",
   "metadata": {},
   "source": []
  },
  {
   "cell_type": "code",
   "execution_count": 2,
   "metadata": {},
   "outputs": [
    {
     "data": {
      "text/plain": [
       "4294967296"
      ]
     },
     "execution_count": 2,
     "metadata": {},
     "output_type": "execute_result"
    }
   ],
   "source": [
    "2**32"
   ]
  },
  {
   "cell_type": "markdown",
   "metadata": {},
   "source": [
    "| Component                            | Description                                                            |\n",
    "| ------------------------------------ | ---------------------------------------------------------------------- |\n",
    "| **Instruction Pointer (IP / RIP)**   | Where the process was executing (next instruction)                     |\n",
    "| **Stack Pointer (SP / RSP)**         | Where the top of the stack is (for local vars, return addresses, etc.) |\n",
    "| **Flags Register (EFLAGS/RFLAGS)**   | Condition bits, interrupt enable bit, etc.                             |\n",
    "| **General-purpose registers**        | Like `RAX`, `RBX`, `RCX` — store intermediate values                   |\n",
    "| **Segment Registers (CS, SS, etc.)** | Define memory protection/permissions and mode (user vs kernel)         |\n",
    "| **Page Table Base (CR3)**            | Points to the memory map of the process                                |\n"
   ]
  },
  {
   "cell_type": "markdown",
   "metadata": {},
   "source": [
    "| Component                 | Description                                              |\n",
    "| ------------------------- | -------------------------------------------------------- |\n",
    "| **Memory space**          | Code, heap, stack, and memory-mapped files               |\n",
    "| **Open file descriptors** | List of files/sockets/devices the process can read/write |\n",
    "| **Process ID (PID)**      | Unique ID                                                |\n",
    "| **Parent process info**   | Used for process hierarchy and signaling                 |\n",
    "| **Signal handlers**       | Custom handlers for `SIGINT`, `SIGSEGV`, etc.            |\n",
    "| **Scheduling priority**   | Determines CPU time                                      |\n",
    "| **Kernel stack**          | Used during kernel-mode execution                        |\n",
    "| **User stack**            | For user-mode execution                                  |\n",
    "| **Environment variables** | Passed at process creation                               |\n",
    "| **Security credentials**  | UID, GID, capabilities, etc.                             |\n"
   ]
  },
  {
   "cell_type": "markdown",
   "metadata": {},
   "source": [
    "        Process\n",
    "        ├── CPU Context (key state)\n",
    "        │   ├── Instruction Pointer\n",
    "        │   ├── Stack Pointer\n",
    "        │   ├── Registers\n",
    "        │   └── Flags\n",
    "        ├── Kernel Stack\n",
    "        ├── User Stack\n",
    "        ├── Heap\n",
    "        ├── Code (.text)\n",
    "        ├── Open Files\n",
    "        ├── Signals\n",
    "        ├── Identity (PID, UID)\n",
    "        └── Scheduling Info\n",
    "✅ Every process has a core execution context: registers, IP, SP, flags — saved/restored during context switches.\n",
    "\n",
    "✅ On top of that, it has its own custom execution environment: memory, file descriptors, privileges, etc.\n",
    "\n",
    "✅ The OS tracks all of this (usually in a task_struct in Linux).\n",
    "\n",
    "✅ You can think of this “key state” as the \"CPU-facing\" identity of the process — everything else is process-facing or OS-facing."
   ]
  },
  {
   "cell_type": "markdown",
   "metadata": {},
   "source": [
    "**System Calls** \n",
    "- allow `kernel` to provide `user programs` \n",
    "- some `functionalities` , e.g.:\n",
    "    - access file system\n",
    "    - creating & destroying processes\n",
    "    - communicating with other processes\n",
    "    - allocating more memory"
   ]
  },
  {
   "cell_type": "markdown",
   "metadata": {},
   "source": []
  },
  {
   "cell_type": "markdown",
   "metadata": {},
   "source": []
  },
  {
   "cell_type": "markdown",
   "metadata": {},
   "source": []
  },
  {
   "cell_type": "markdown",
   "metadata": {},
   "source": [
    "\n",
    "Implement CPU Virtualisatoin with\n",
    "- limited direct execution (i.e. some key low-level mechanisms)\n",
    "- steps:\n",
    "    - run program from cpu\n",
    "    - set limits on processes without OS assistance\n",
    "Sections:\n",
    "0. Virtualisation\n",
    "- time sharing\n",
    "- challenges:\n",
    "    - performance\n",
    "    - control\n",
    "\n",
    "1. What is Limited Direct Execution (LDE):\n",
    "- A basic virt technique\n",
    "- Open program directly in CPU\n",
    "    - **OS** actions overview\n",
    "    - **Program** actions overview\n",
    "- Whats needed to Virt CPU:\n",
    "    - How to ensure program does what we want only, efficiently?\n",
    "    - How OS implement time sharing, to switch processes, thurs virt the cpu?\n",
    "    - what is the `limited` part?\n",
    "        - limits on running programs?\n",
    "\n"
   ]
  },
  {
   "cell_type": "markdown",
   "metadata": {},
   "source": [
    "2. LDE Problem 1: Restricted Operations\n",
    "- DE \n",
    "    - pros: fast, runs native on hardware CPU\n",
    "    - cons: problem whence process wants perform **restricted operation**, e.g.:\n",
    "        - I/O request to disk\n",
    "        - gain access more system resources: cpu, memory;\n",
    "    - `crux`: how process to perform *i/o* & other *restricted operations* **without giving process complete control over system**\n",
    "- `aside`: system call vs c-procedure call\n",
    "- `user mode`:\n",
    "- `kernel mode`:\n",
    "- `protected control transfer`:\n",
    "- hardware trapping mechanism:\n",
    "    - `trap` special instruction:\n",
    "    - `return-from-trap`:\n",
    "    - `kernel stack` per-process:\n",
    "    - `trap table` set up at boot time:\n",
    "    - `trap handlers`:\n",
    "- `LDE` protocol\n",
    "    - two phases: \n",
    "        - boot time: trap table & CPU priviledged instruction\n",
    "        - running process: \n",
    "            - start: node to plist, alloc_mem, retrun trap, start process, user mode\n",
    "            - syscall: trap back os, os handles, return control return-from-trap to process\n",
    "            - complete: process returns to main/stub code to exit properly\n",
    "    - timeline: process, in/out kernel, registers (gen purpose reg, program counter), save to/fro hardware\n",
    "- `system-call number`:\n",
    "    - `level of indirection`:\n",
    "- `priviledged` operation:\n"
   ]
  },
  {
   "cell_type": "markdown",
   "metadata": {},
   "source": [
    "3. LDE Problem 2: Switching Between Processes\n",
    "- `crux`: how OS **regain control** from CPU to switch processes\n",
    "- `cooperative` approach: `Wait For Sys Calls`\n",
    "    - `yield`\n",
    "    - `trap`\n",
    "- `non-cooperative` approach: `OS takes control`\n",
    "    - `timer-interrupt`\n",
    "    - `interrupt handler`\n",
    "- `saving-restoring context`:\n",
    "    - `scheduler`\n",
    "    - `context switch`\n",
    "    - registers:    \n",
    "        - `user registers`\n",
    "        - `kernel registers`\n",
    "    - `LDE timer interrupt diagram`\n",
    "\n",
    "4. LDE Concurrency\n",
    "- `disable interrupts`\n",
    "- `locking schemes`\n",
    "- `xv6 context switch` code\n",
    "\n",
    "\n"
   ]
  },
  {
   "cell_type": "markdown",
   "metadata": {},
   "source": [
    "Direct Execution Protocol (Wihtout Limits)\n",
    "- Add entry to process list\n",
    "- Allocate memory to program\n",
    "- Load program to RAM\n",
    "- Setup Stack: argc, argc\n",
    "- Clear registers\n",
    "- Execute main()\n",
    "\n",
    "\n",
    "Direct Execution Protocol (With Limits)\n",
    "- Add entry to process list\n",
    "- Allocate memory to program\n",
    "- Load program to RAM\n",
    "- Setup Stack: argc, argc\n",
    "- \n",
    "- Clear registers\n",
    "- Execute main()"
   ]
  },
  {
   "cell_type": "markdown",
   "metadata": {},
   "source": [
    "## 3.2 Privledge Separation Examples\n",
    "\n",
    "## 3.2.1 Without Privledge Separation\n",
    "Early CPU's or toy OS: \n",
    "- allows programs \n",
    "- issue hardware commands\n",
    "- directly to disk controller"
   ]
  },
  {
   "cell_type": "markdown",
   "metadata": {},
   "source": [
    "## 3.2.2 With `user`/`kernel` mode \n",
    "Modern CPUs & OSes\n",
    "- User program calls `write()`\n",
    "    - OS intercepts via `syscall`\n",
    "    - Switch to `kernel` mode\n",
    "    - OS checks: Do you have permission? file open? Write quota?\n",
    "    - If yes, OS issues disk command\n",
    "- Results back to user program"
   ]
  },
  {
   "cell_type": "markdown",
   "metadata": {},
   "source": []
  },
  {
   "cell_type": "markdown",
   "metadata": {},
   "source": [
    "In C, function arguments are passed by value , meaning functions get copies of what you pass. So if you want to modify a variable inside a function, you must pass a pointer  to it."
   ]
  },
  {
   "cell_type": "markdown",
   "metadata": {},
   "source": []
  },
  {
   "cell_type": "markdown",
   "metadata": {},
   "source": []
  },
  {
   "cell_type": "markdown",
   "metadata": {},
   "source": []
  },
  {
   "cell_type": "markdown",
   "metadata": {},
   "source": []
  },
  {
   "cell_type": "markdown",
   "metadata": {},
   "source": []
  },
  {
   "cell_type": "markdown",
   "metadata": {},
   "source": []
  },
  {
   "cell_type": "code",
   "execution_count": null,
   "metadata": {},
   "outputs": [],
   "source": []
  },
  {
   "cell_type": "markdown",
   "metadata": {},
   "source": [
    "`printf()` - format specifier\n",
    "- `%zu` for `sizeof(nums[5])`;\n",
    "\n",
    "\n",
    "- `typedef char String[50]`: 50 bytes for each String (nickname for char)\n",
    "- `typedef char* String`: Pointer, no need to allocated bytes\n",
    "\n",
    "Set array of chars with limits\n",
    "- `#define NO_OF_NAMES 3`\n",
    "- `#define MAX_NAMES_LEN 50`\n",
    "- `char names[NO_OF_NAMES][MAX_NAMES_LEN]={0};`\n"
   ]
  },
  {
   "cell_type": "markdown",
   "metadata": {},
   "source": [
    "pointers and memory addresses:\n",
    "\n",
    "- `int age     = 69;`\n",
    "- `int *pAge   = &age;`\n",
    "- `int* p2Age  = &age;`\n",
    "- `printf(\"%d is at: %p\\n\",age,&age);`\n",
    "- `printf(\"*pAge is at:  %p\\n\",pAge);`\n",
    "- `printf(\"*p2Age is at: %p\\n\",p2Age);`\n",
    "- [gpt] `pChar[0]` is shorthand for `*(pChar + 0)`, which is just `*pChar`."
   ]
  },
  {
   "cell_type": "markdown",
   "metadata": {},
   "source": [
    "# writing to file\n",
    "- Goal: Create a ***pointer*** to a `FILE` struct\n",
    "    - `struct` is **container/blueprint** for some real world representation\n",
    "    - `FILE` is **data_type** of `struct` from `stdio.h`\n",
    "    - `FILE *pFile`: pointer to file???\n",
    "    - `fopen()`: (attempts) to create a file\n",
    "        - arg1: file path, abs/rel.\n",
    "        - arg2: `r` or `w` mode\n",
    "        - returns: \n",
    "            - IF FAILED: `NULL` (addres 0 or pointer to nothing?)\n",
    "            - IF SUCESS: ...    \n",
    "    - `fclose(ptr_file_struct)`\n",
    "\n",
    "- [1] Writing text: \n",
    "- `char[]=\"aksdjfkl\\nlaskdjflaksdf\"`\n",
    "\n",
    "- `fprintf()`: write to file\n",
    "    - arg1: pointer to file\n",
    "    - arg2: format specifier\n",
    "    - arg3: variable\n",
    "    - return: >0 success, or <0 failure\n",
    "\n"
   ]
  },
  {
   "cell_type": "markdown",
   "metadata": {},
   "source": [
    "# read file\n",
    "- define a pointer to where the file is located\n",
    "- create char buffer\n",
    "- `fgets()` return NULL when exhausted\n",
    "    - arg1: character buffer\n",
    "    - arg2: size of buffer\n",
    "    - arg3: file description or pointer to file\n",
    "\n",
    "- while `fgets!=NULL`..."
   ]
  },
  {
   "cell_type": "markdown",
   "metadata": {},
   "source": [
    "# ERROR stuff\n",
    "- `perror(\"...\")`: prints error in buffer?\n",
    "- `stderr`: error stream\n",
    "- `errorno`: special global variable that's automatically set by system calls and library functions when they encounter errors\n",
    "- `stderr(errorno)`: get the error msg?\n",
    "        fprintf(stderr, \"Error opening file: %s ❌\\n\", strerror(errno));\n",
    "\n",
    "#### code examples (inside `pFile=NULL`):\n",
    "- `perror(\"error msg:\")`\n",
    "- `fprintf(stderr, \"error msg: %s\\n\", strerror(errno));`"
   ]
  },
  {
   "cell_type": "markdown",
   "metadata": {},
   "source": []
  },
  {
   "cell_type": "markdown",
   "metadata": {},
   "source": []
  },
  {
   "cell_type": "markdown",
   "metadata": {},
   "source": []
  },
  {
   "cell_type": "markdown",
   "metadata": {},
   "source": []
  },
  {
   "cell_type": "markdown",
   "metadata": {},
   "source": [
    "# Dynamic Memory `malloc()`\n",
    "- `malloc(n_bytes)` returns a **pointer** ---> to array-like data-structure\n",
    "    - arg1: `n_bytes` is number of bytes to reserve in memory\n",
    "    - calculate `n_bytes` at run-time: \n",
    "        - e.g. Ask user how **many elements**, then **multiple** by `size of char` (as they're entering chars?)\n",
    "\n",
    "- **Memory**: from the `heap`, usually its from the `stack` "
   ]
  },
  {
   "cell_type": "code",
   "execution_count": null,
   "metadata": {},
   "outputs": [],
   "source": []
  },
  {
   "cell_type": "code",
   "execution_count": null,
   "metadata": {},
   "outputs": [],
   "source": []
  },
  {
   "cell_type": "code",
   "execution_count": null,
   "metadata": {},
   "outputs": [],
   "source": []
  }
 ],
 "metadata": {
  "kernelspec": {
   "display_name": ".venv",
   "language": "python",
   "name": "python3"
  },
  "language_info": {
   "codemirror_mode": {
    "name": "ipython",
    "version": 3
   },
   "file_extension": ".py",
   "mimetype": "text/x-python",
   "name": "python",
   "nbconvert_exporter": "python",
   "pygments_lexer": "ipython3",
   "version": "3.13.3"
  }
 },
 "nbformat": 4,
 "nbformat_minor": 2
}
