{
 "cells": [
  {
   "cell_type": "markdown",
   "id": "a6570618",
   "metadata": {},
   "source": [
    "# Pointers in C\n",
    "Reference: \n",
    "- https://www.youtube.com/watch?v=MIL2BK02X8A"
   ]
  },
  {
   "cell_type": "markdown",
   "id": "fcffecf9",
   "metadata": {},
   "source": [
    "# 1. Computer In A Nutshell\n",
    "**RAM**: series of boxes or addresses  \n",
    "**CPU**: register, intermediate places of calculations  \n",
    "**ALU**: inside, cpu, its like a calculator  \n",
    "**byte**: 8 bits (bindary digits)  "
   ]
  },
  {
   "cell_type": "markdown",
   "id": "24ebce7d",
   "metadata": {},
   "source": [
    "# 2. Data Types\n",
    "### 2.1 Integer Types\n",
    "`char`: 1 bytes  (1 byte int ?)\n",
    "`short`: 2 bytes (short int)  \n",
    "`int`: 4 bytes    \n",
    "`long`: 8 bytes (long int)  \n",
    "\n",
    "### 2.2 Real Types\n",
    "`float`: 4 bytes  \n",
    "\n",
    "`double`: 8 bytes  \n",
    "  \n",
    "![](imgs/datatypes.png)\n"
   ]
  },
  {
   "cell_type": "markdown",
   "id": "d36f0de8",
   "metadata": {},
   "source": [
    "### 2.3 Binary Electrical Configuration\n",
    "#### 2.3.1 declaration `int age = 42`\n",
    "`int age = 42`:  \n",
    "- A chunk of memory of 4 bytes  \n",
    "- 42 written in bits  \n",
    "\n",
    "#### 2.3.2 bit calculation for `42`\n",
    "- **value** [1st byte][$2^n$]): $[128][64][32][16] - [ 8][ 4][ 2][ 1]  $\n",
    "- **onoff** [1st byte][$0,1$]): $[ 0 ][ 0][ 1][ 0] - [ 1][ 0][ 1][ 0]  $\n",
    "- **accum** [1st byte][csum]: $[ 0 ][ 0][32][ 0] - [40][ 0][42][ 0]  $\n",
    "- **binary** [4_bytes][$2^{32}$]: `0b00101010-00000000-00000000-00000000`\n",
    "- **binary** [4_bytes][$2^{32}$]:`$[byte_1]-[byte_2]-[byte_3]-[byte_4]$\n",
    "\n",
    "### 2.4 Computer Is A Fancy Calculator\n",
    "![](imgs/calculator.png)"
   ]
  },
  {
   "cell_type": "markdown",
   "id": "4c97a8f9",
   "metadata": {},
   "source": [
    "# 3. `main()`\n",
    "`main()` is a function.  \n",
    "- A function is something that perform some task\n",
    "- A process composes of many functions"
   ]
  },
  {
   "cell_type": "markdown",
   "id": "4350f0f4",
   "metadata": {},
   "source": [
    "# 4. memory\n",
    "When we launch a process, we need to ask the OS for some resources or **memory**.\n",
    "\n",
    "### 4.1 field in memory\n",
    "OS provides every process a field in memory\n",
    "\n",
    "### 4.2 process memory layout\n",
    "Sections containing pieces of your process, including:\n",
    "- `STACK`(goes down): action\n",
    "- `HEAP`(goes up): memory dynamically at run-time\n",
    "- `.DATA`: global static variables\n",
    "- `.TEXT`: machine instructions\n",
    "\n",
    "![](imgs/processmemorylayout.png)\n",
    "\n",
    "### 4.3 RAM\n",
    "What happens?\n",
    "- OS provides some memory, piece of RAM, to the process.\n",
    "- Process performs all the tasks (action), in the STACK of this memory."
   ]
  },
  {
   "cell_type": "markdown",
   "id": "4831c386",
   "metadata": {},
   "source": [
    "# 5. Pointers\n",
    "### 5.1 RAM\n",
    "`int main() {int age; age=42;}`:\n",
    "- age is just a **tag** for hoomans to read\n",
    "- in memory, the bits are turn on and off to represent `age=42`\n",
    "    - $= [00101010]$ + $3$ empty bytes (int is 4 bytes)\n",
    "    - $= 32 + 8 + 2 = 42$\n",
    "- computers use **addresses** tho, not tags.\n",
    "- the user (we see) is actually **VIRTUAL**"
   ]
  },
  {
   "cell_type": "markdown",
   "id": "69438a74",
   "metadata": {},
   "source": [
    "### 5.2 Function Frames\n",
    "Each call to a function creates a new **function frame**\n",
    "- `main()`\n",
    "    - first function frame\n",
    "    - added to stop of `STACK`\n",
    "- `change_value()`\n",
    "    - second function frame\n",
    "    - added downloads to `STACK` (under `main()` function frame)\n",
    "\n",
    "![](imgs/fnframe.png)\n"
   ]
  },
  {
   "cell_type": "markdown",
   "id": "a10bf43b",
   "metadata": {},
   "source": [
    "### 5.3 Pass-By-Value: `change_value(nb)`\n",
    "\n",
    "When a variable is passed into a function e.g. `change_value(nb)`, it is:\n",
    "- `nb` is **passed-by-value** (value is copied) into that function frame (of `change_value`)\n",
    "- That is, each function frame has their own copy of `nb`"
   ]
  },
  {
   "cell_type": "markdown",
   "id": "2e1bb2d5",
   "metadata": {},
   "source": [
    "### 5.4 Addresses\n",
    "`&nb` is the address of variable `nb` (location in memory)."
   ]
  },
  {
   "cell_type": "markdown",
   "id": "6cce4107",
   "metadata": {},
   "source": [
    "### 5.5 Pointers\n",
    "A pointer `p` is declared `int *p`:\n",
    "- pointer is a **variable** that holds an *memory address* (virtual memory address)\n",
    "- pointer value is the ***memory address***\n",
    "- pointer has a **type** (e.g. `int`, `char`, etc...)\n",
    "- pointer can be **deferenced** via `*p` to get the value at the memory address."
   ]
  },
  {
   "cell_type": "markdown",
   "id": "dd5530bf",
   "metadata": {},
   "source": [
    "### 5.5.1 What's the Point? (pun-intended)\n",
    "- Allow you to make references \n",
    "- To something else\n",
    "- Not in your Current Function Frame\n",
    "- Otherwise, every function has their own copy variables, cannot be used to change values as seen in 5.3 Pass-By-Value example.\n"
   ]
  },
  {
   "cell_type": "markdown",
   "id": "03030a3e",
   "metadata": {},
   "source": [
    "### 5.5 Pass-By-Reference: `change_value(&nb)`\n",
    "\n"
   ]
  },
  {
   "cell_type": "markdown",
   "id": "9e53d8c7",
   "metadata": {},
   "source": [
    "### 5.6 Expression, Type, Value & Meaning Table\n",
    "| Expression | Type    | Value                   | Meaning                    |\n",
    "| ---------- | ------- | ----------------------- | -------------------------- |\n",
    "| `x`        | `int`   | `10`                    | the number itself          |\n",
    "| `&x`       | `int *` | something like `0x1000` | address of `x`             |\n",
    "| `p`        | `int *` | also `0x1000`           | pointer to `x`             |\n",
    "| `*p`       | `int`   | `10`                    | dereference → value of `x` |\n",
    "\n",
    "Note: The *type* of the **pointer** ***must match*** the *type* of the **data** it's ***pointing*** to...\n",
    "\n",
    "### 5.6.1 type matching\n",
    "`int* p = &x;` [**OK**]\n",
    "- `&x` is of type `int*` (because `x` is an `int`)\n",
    "- `p` is of type `int*`\n",
    "\n",
    "### 5.6.2 type not matching\n",
    "`float* p = &x`;  // ❌ warning: incompatible pointer types\n"
   ]
  },
  {
   "cell_type": "markdown",
   "id": "d4287de5",
   "metadata": {},
   "source": [
    "# 6. Declaration\n",
    "It is a *how to use* to yield the type specified.\n",
    "\n",
    "`int n, *pn, **pn2`: In laymens, to get an `integer`:\n",
    "- use `n` or\n",
    "- use `*pn` (how to variable `pn` to get this `int`) or \n",
    "- use `**pn2` (how to use variable `pn2` to get this `int`)\n",
    "- when used in an **expression**\n",
    "\n"
   ]
  },
  {
   "cell_type": "markdown",
   "id": "90ba0bc4",
   "metadata": {},
   "source": []
  },
  {
   "cell_type": "markdown",
   "id": "844b9207",
   "metadata": {},
   "source": [
    "# 7. Pass-by-Value (PBV) vs Pass-by-Reference ((PBR))\n",
    "### 7.1 PBV Advantages\n",
    "- Safe (doesnt change original values)\n",
    "- Easy to understand\n",
    "\n",
    "### 7.2 PBV Disadvantages\n",
    "- Performance overheads (data is duplicated)\n",
    "- Low reach - Stuck in **local function frame**\n",
    "\n",
    "### 7.3 PBR Advantages\n",
    "- Low overhead, no data copying\n",
    "- Far reach, direct access\n",
    "\n",
    "### 7.4 PBR Disadvantages\n",
    "- Difficult to understand"
   ]
  },
  {
   "cell_type": "markdown",
   "id": "3131ad25",
   "metadata": {},
   "source": [
    "# 8. PBV vs PBR Projects\n",
    "ref: https://pythontutor.com/c.html#\n",
    "## 8.1 PBV Project \n",
    "**global**:  \n",
    "- Create struct `s_arr` \n",
    "    - with member `v` \n",
    "    - `char` array \n",
    "    - of size `n`\n",
    "    - tag `t_arr`\n",
    "\n",
    "**main**:\n",
    "- add instance of t_arr: [tonys_arr] \n",
    "    - TODO: find sytang to instantiate struct\n",
    "- add a [random_value] % arr_size -> value(0,arr_size)\n",
    "- place [random_value] into [tonys_arr]\n",
    "\n",
    "**global**:\n",
    "- add fn: find_target_v1(t_arr)\n",
    "    - finds target int t_arr struct e.g. tonys_arr.v[i]\n",
    "\n",
    "**main**:\n",
    "- run find_target_v1(t_arr)\n"
   ]
  },
  {
   "cell_type": "markdown",
   "id": "25a2b91c",
   "metadata": {},
   "source": [
    "## 8.2 PBR Project \n",
    "\n",
    "`->`: used for members of structs"
   ]
  },
  {
   "cell_type": "markdown",
   "id": "ecf8a3df",
   "metadata": {},
   "source": [
    "# 9. Binary Configurations\n",
    "Note the binary configurations between `int` and `floats` (inc IEEE 754 standard EXP BITS) of the same value distinct.\n",
    "- `int nb=42;`\n",
    "- `float nb=42.0;`\n",
    "\n",
    "- `%E`: for scientific notation\n",
    "- ref: https://float.exposed/0x00000000\n"
   ]
  },
  {
   "cell_type": "markdown",
   "id": "550a8715",
   "metadata": {},
   "source": [
    "# 9. Casting\n",
    "- zcreate nb int\n",
    "- create ptr *int \n",
    "- dereference ptr\n",
    "\n",
    "### 9.1 Project 1: `Int` to `Float`\n",
    "- dereference & cast (int to float) ptr\n",
    "\n",
    "### 9.1 Project 1: `Int` to `Char`\n",
    "- dereference & cast (int to char) ptr: **least significant byte (LSB)**"
   ]
  },
  {
   "cell_type": "markdown",
   "id": "cb4cdf0b",
   "metadata": {},
   "source": [
    "# 10. Pointer Arithmetic\n",
    "\n",
    "### 10.1 Project 1: Chars\n",
    "\n",
    "### 10.2 Project 2: Ints, Floats, etc\n",
    "\n",
    "### 10.3 Project 3: Custom Structs\n",
    "\n"
   ]
  },
  {
   "cell_type": "markdown",
   "id": "165ba392",
   "metadata": {},
   "source": [
    "![](imgs/floatexposed.png)"
   ]
  },
  {
   "cell_type": "markdown",
   "id": "b6308206",
   "metadata": {},
   "source": [
    "# 11. Void (or Generic) Pointers\n"
   ]
  },
  {
   "cell_type": "markdown",
   "id": "673c1091",
   "metadata": {},
   "source": [
    "### 11.1 Project 1: Void Pointer Casting\n",
    "- [global] create custom printData function(void* data, ...)\n",
    "- [main] \n",
    "    - declare `int nb`\n",
    "    - run `printData(nb, type1)`: 3 scenarios, `int`, `char`, `float`\n",
    "\n",
    "\n"
   ]
  },
  {
   "cell_type": "markdown",
   "id": "79cc98a8",
   "metadata": {},
   "source": [
    "# 12. Array Pointer Decay\n",
    "\n",
    "During *assignment* or *function calls*, an array ***decays*** into a **pointer** to its **first element**.\n",
    "- `arr_str` → becomes → `&arr_str[0]` → type: `char *`\n",
    "    - `char *p_arr_str = arr_str;`\n",
    "    - `char *p_arr_str = &arr_str[0];  // same result, same type`\n"
   ]
  },
  {
   "cell_type": "markdown",
   "id": "490b5593",
   "metadata": {},
   "source": []
  },
  {
   "cell_type": "markdown",
   "id": "e41a83be",
   "metadata": {},
   "source": []
  },
  {
   "cell_type": "markdown",
   "id": "d9449b94",
   "metadata": {},
   "source": []
  },
  {
   "cell_type": "markdown",
   "id": "a2c006b8",
   "metadata": {},
   "source": []
  },
  {
   "cell_type": "markdown",
   "id": "80dc4736",
   "metadata": {},
   "source": []
  },
  {
   "cell_type": "markdown",
   "id": "49679794",
   "metadata": {},
   "source": []
  },
  {
   "cell_type": "markdown",
   "id": "b15c358d",
   "metadata": {},
   "source": [
    "# `malloc()`\n",
    "### what is malloc \n",
    "malloc allow developers to RENT memory from the [HEAP].  \n",
    "\n",
    "malloc creates [array-like data structure] in heap memory\n",
    "- a. getting memory is like renting an apartment\n",
    "- b. getting ptr is like getting the key to aparment\n",
    "- as with all rentals, we must return it, at end of lease.\n",
    "\n",
    "### what actually happens?\n",
    "Two things [1] memory created + [2] pointer created\n",
    "- 1. malloc creates [array-like data structure] in heap memory\n",
    "- 2. pointer *grades points to [RENTED] memory in heap.\n",
    "\n",
    "### how to?\n",
    "1. RUN `malloc(n_bytes)`\n",
    "- char *grades = malloc(number * sizeof(char));\n",
    "\n",
    "2. RUN `free(*p)`\n",
    "`free(grades)` to return rented memory back to OS.\n",
    "- a. free() - is like leaving apt to free for owner \n",
    "- a. grades=NULL - is like returning key to owner\n",
    "\n"
   ]
  },
  {
   "cell_type": "markdown",
   "id": "301bfdae",
   "metadata": {},
   "source": [
    "3. NOTES\n",
    "\n",
    "- because pointer is char  *\n",
    "`- pointer arithmetic allows us to increment accordingly\n",
    "- whilst assigning values???\n",
    "\n",
    "- grades is ptr, value is mem_addy, (also numerical)\n",
    "- *grades is 1st value (a mem_addy: x00) of chunk of heap memory\n",
    "    - 1. accept user input: integer \n",
    "    - 2. assign to *grades\n",
    "    - 3. increement to next grades? ie grades+1??\n",
    "- scanf(\" %c\", grades);       // accepts memory address (NOT VALUE @ MEM_ADDY)?\n",
    "-                             // addy == pointer , can accept pointer?\n"
   ]
  },
  {
   "cell_type": "markdown",
   "id": "59abae4b",
   "metadata": {},
   "source": [
    "# Accept CL Arguments\n",
    "Code: `main(int argc, char* argv[]){}`\n",
    "- argc: the number of total argumente entered by user\n",
    "- argv: the array of strings, loop through it to get each string\n",
    "    - argv[0]: file name\n",
    "    - Usually loop from: `argv[1] to argc`\n",
    "\n",
    "- `echo $?`: see program **status code** of previous command ran."
   ]
  },
  {
   "cell_type": "markdown",
   "id": "4b72060b",
   "metadata": {},
   "source": [
    "# tag versus type name\n",
    "- Struct tags (`struct s_name`) and \n",
    "- typedefs (`t_name`) use separate namespaces, avoiding collisions\n",
    "\n",
    "`ctype.h`: functions check char e.g. `islower()`, `toupper` etc\n"
   ]
  },
  {
   "cell_type": "code",
   "execution_count": null,
   "id": "34256ea5",
   "metadata": {},
   "outputs": [],
   "source": []
  },
  {
   "cell_type": "markdown",
   "id": "ea30440c",
   "metadata": {},
   "source": []
  },
  {
   "cell_type": "markdown",
   "id": "d0659fda",
   "metadata": {},
   "source": []
  },
  {
   "cell_type": "markdown",
   "id": "96af434b",
   "metadata": {},
   "source": []
  },
  {
   "cell_type": "markdown",
   "id": "adabc827",
   "metadata": {},
   "source": []
  },
  {
   "cell_type": "markdown",
   "id": "6f5ed266",
   "metadata": {},
   "source": [
    "testing link\n",
    "[17-07-25](https://github.com/tonyjustdevs/learning_c/blob/8975b00322627b6c252759b33519236896edd631/tp-ostep/ch6/17-07-25)"
   ]
  },
  {
   "cell_type": "markdown",
   "id": "cef149b8",
   "metadata": {},
   "source": []
  },
  {
   "cell_type": "markdown",
   "id": "78f28bb1",
   "metadata": {},
   "source": []
  },
  {
   "cell_type": "markdown",
   "id": "2e1816c2",
   "metadata": {},
   "source": [
    "# fun: `cowsay`, `fortune`, `lolcat`\n",
    "- `cowsay mooo`\n",
    "- `echo \"moo moooo\" | cowsay`\n",
    "-  `cowsay -l`: diff ascii art\n",
    "- `cowsay -f dragon ...`\n",
    "- `cowthink asdf`\n",
    "- `fortune`\n",
    "- `fortune | cowsay -f dragon `\n",
    "- `cowsay Hello | lolcat`\n",
    "- `fortune | cowsay -f tux | lolcat`\n",
    "- `fortune | cowthink -f tux | lolcat`\n",
    "\n",
    "- `fortune | cowsay -f dragon for wise dragon quotes`\n",
    "- `cowsay -f moose $(date) for a moose to say the date`\n",
    "- `curl wttr.in | cowsay -f ghostbusters for weather forecasts from `a ghostbuster\n",
    "- `cat todo.txt | cowsay -e ^^ for task lists said by a surprised cow`\n",
    "- `mpc | cowsay -f sheep for music info from your sheep friend`\n",
    "- `echo \"Error!\" | cowsay -f vader for error messages from Darth Vader`\n",
    "\n"
   ]
  },
  {
   "cell_type": "markdown",
   "id": "30bdc67e",
   "metadata": {},
   "source": [
    "#### cowsay args\n",
    "|-arg|description| \n",
    "|--|-------| \n",
    "|-g|$$ eyes| \n",
    "|-e|-e hh eyes|\n",
    "|-r|random|\n",
    "|-b|Invokes Borg mode|\n",
    "|-d|Causes the cow to appear dead|\n",
    "|-p|Causes a state of paranoia to come over the cow|\n",
    "|-s|Makes the cow appear thoroughly stoned|\n",
    "|-t|A tired cow|\n",
    "|-y|Brings on the cow’s youthful appearance|\n",
    "|-w|Wired Cow|\n",
    "|-W|Width|\n"
   ]
  },
  {
   "cell_type": "markdown",
   "id": "3ed0ea42",
   "metadata": {},
   "source": []
  },
  {
   "cell_type": "code",
   "execution_count": 3,
   "id": "c1868c9f",
   "metadata": {},
   "outputs": [
    {
     "data": {
      "text/plain": [
       "13"
      ]
     },
     "execution_count": 3,
     "metadata": {},
     "output_type": "execute_result"
    }
   ],
   "source": [
    "int(0x7fff5a9853b8)- int(0x7fff5a9853ab)"
   ]
  },
  {
   "cell_type": "markdown",
   "id": "36eeaf67",
   "metadata": {},
   "source": []
  },
  {
   "cell_type": "markdown",
   "id": "00a93fa1",
   "metadata": {},
   "source": []
  },
  {
   "cell_type": "markdown",
   "id": "613fbf32",
   "metadata": {},
   "source": []
  },
  {
   "cell_type": "markdown",
   "id": "2bb21ad6",
   "metadata": {},
   "source": []
  },
  {
   "cell_type": "markdown",
   "id": "043036a2",
   "metadata": {},
   "source": []
  }
 ],
 "metadata": {
  "kernelspec": {
   "display_name": ".venv",
   "language": "python",
   "name": "python3"
  },
  "language_info": {
   "codemirror_mode": {
    "name": "ipython",
    "version": 3
   },
   "file_extension": ".py",
   "mimetype": "text/x-python",
   "name": "python",
   "nbconvert_exporter": "python",
   "pygments_lexer": "ipython3",
   "version": "3.13.3"
  }
 },
 "nbformat": 4,
 "nbformat_minor": 5
}
