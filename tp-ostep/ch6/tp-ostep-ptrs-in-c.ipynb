{
 "cells": [
  {
   "cell_type": "markdown",
   "id": "a6570618",
   "metadata": {},
   "source": [
    "# Pointers in C\n",
    "Reference: \n",
    "- https://www.youtube.com/watch?v=MIL2BK02X8A"
   ]
  },
  {
   "cell_type": "markdown",
   "id": "fcffecf9",
   "metadata": {},
   "source": [
    "# 1. Computer In A Nutshell\n",
    "**RAM**: series of boxes or addresses  \n",
    "**CPU**: register, intermediate places of calculations  \n",
    "**ALU**: inside, cpu, its like a calculator  \n",
    "**byte**: 8 bits (bindary digits)  "
   ]
  },
  {
   "cell_type": "markdown",
   "id": "24ebce7d",
   "metadata": {},
   "source": [
    "# 2. Data Types\n",
    "### 2.1 Integer Types\n",
    "`char`: 1 bytes  (1 byte int ?)\n",
    "`short`: 2 bytes (short int)  \n",
    "`int`: 4 bytes    \n",
    "`long`: 8 bytes (long int)  \n",
    "\n",
    "### 2.2 Real Types\n",
    "`float`: 4 bytes  \n",
    "\n",
    "`double`: 8 bytes  \n",
    "  \n",
    "![](imgs/datatypes.png)\n"
   ]
  },
  {
   "cell_type": "markdown",
   "id": "d36f0de8",
   "metadata": {},
   "source": [
    "### 2.3 Binary Electrical Configuration\n",
    "#### 2.3.1 declaration `int age = 42`\n",
    "`int age = 42`:  \n",
    "- A chunk of memory of 4 bytes  \n",
    "- 42 written in bits  \n",
    "\n",
    "#### 2.3.2 bit calculation for `42`\n",
    "- **value** [1st byte][$2^n$]): $[128][64][32][16] - [ 8][ 4][ 2][ 1]  $\n",
    "- **onoff** [1st byte][$0,1$]): $[ 0 ][ 0][ 1][ 0] - [ 1][ 0][ 1][ 0]  $\n",
    "- **accum** [1st byte][csum]: $[ 0 ][ 0][32][ 0] - [40][ 0][42][ 0]  $\n",
    "- **binary** [4_bytes][$2^{32}$]: `0b00101010-00000000-00000000-00000000`\n",
    "- **binary** [4_bytes][$2^{32}$]:`$[byte_1]-[byte_2]-[byte_3]-[byte_4]$\n",
    "\n",
    "### 2.4 Computer Is A Fancy Calculator\n",
    "![](imgs/calculator.png)"
   ]
  },
  {
   "cell_type": "markdown",
   "id": "4c97a8f9",
   "metadata": {},
   "source": [
    "# 3. `main()`\n",
    "`main()` is a function.  \n",
    "- A function is something that perform some task\n",
    "- A process composes of many functions"
   ]
  },
  {
   "cell_type": "markdown",
   "id": "4350f0f4",
   "metadata": {},
   "source": [
    "# 4. memory\n",
    "When we launch a process, we need to ask the OS for some resources or **memory**.\n",
    "\n",
    "### 4.1 field in memory\n",
    "OS provides every process a field in memory\n",
    "\n",
    "### 4.2 process memory layout\n",
    "Sections containing pieces of your process, including:\n",
    "- `STACK`(goes down): action\n",
    "- `HEAP`(goes up): memory dynamically at run-time\n",
    "- `.DATA`: global static variables\n",
    "- `.TEXT`: machine instructions\n",
    "\n",
    "![](imgs/processmemorylayout.png)\n",
    "\n",
    "### 4.3 RAM\n",
    "What happens?\n",
    "- OS provides some memory, piece of RAM, to the process.\n",
    "- Process performs all the tasks (action), in the STACK of this memory."
   ]
  },
  {
   "cell_type": "markdown",
   "id": "4831c386",
   "metadata": {},
   "source": [
    "# 5. Pointers\n",
    "### 5.1 RAM\n",
    "`int main() {int age; age=42;}`:\n",
    "- age is just a **tag** for hoomans to read\n",
    "- in memory, the bits are turn on and off to represent `age=42`\n",
    "    - $= [00101010]$ + $3$ empty bytes (int is 4 bytes)\n",
    "    - $= 32 + 8 + 2 = 42$\n",
    "- computers use **addresses** tho, not tags.\n",
    "- the user (we see) is actually **VIRTUAL**"
   ]
  },
  {
   "cell_type": "markdown",
   "id": "69438a74",
   "metadata": {},
   "source": []
  },
  {
   "cell_type": "markdown",
   "id": "2e1bb2d5",
   "metadata": {},
   "source": []
  },
  {
   "cell_type": "markdown",
   "id": "9e53d8c7",
   "metadata": {},
   "source": []
  },
  {
   "cell_type": "markdown",
   "id": "f42b5e21",
   "metadata": {},
   "source": []
  },
  {
   "cell_type": "markdown",
   "id": "d4287de5",
   "metadata": {},
   "source": []
  },
  {
   "cell_type": "markdown",
   "id": "90ba0bc4",
   "metadata": {},
   "source": []
  },
  {
   "cell_type": "markdown",
   "id": "b15c358d",
   "metadata": {},
   "source": []
  },
  {
   "cell_type": "markdown",
   "id": "301bfdae",
   "metadata": {},
   "source": []
  },
  {
   "cell_type": "markdown",
   "id": "ecf8a3df",
   "metadata": {},
   "source": []
  },
  {
   "cell_type": "markdown",
   "id": "165ba392",
   "metadata": {},
   "source": []
  }
 ],
 "metadata": {
  "kernelspec": {
   "display_name": ".venv",
   "language": "python",
   "name": "python3"
  },
  "language_info": {
   "name": "python",
   "version": "3.13.3"
  }
 },
 "nbformat": 4,
 "nbformat_minor": 5
}
