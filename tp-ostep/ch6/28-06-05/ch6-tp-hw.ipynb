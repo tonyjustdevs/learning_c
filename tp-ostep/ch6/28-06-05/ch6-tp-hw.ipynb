{
 "cells": [
  {
   "cell_type": "markdown",
   "id": "1d41dfd8",
   "metadata": {},
   "source": [
    "# 1. System Call Cost\n",
    "- `struct timeval start, end;`\n",
    "- `unsigned long long i, iterationas = 1000000`\n",
    "- `read(0,NULL,0)`: 0-byte read\n",
    "- `gettimeofday(&start, NULL)`\n",
    "- `rdtsc`\n"
   ]
  },
  {
   "cell_type": "markdown",
   "id": "c60dd9bc",
   "metadata": {},
   "source": [
    "# 2. Context Switch Cost\n",
    "- `sched_setaffinity()`: pin both processes to the same CPU core (Linux only).\n",
    "- `int pipe1[2], pip2[2];`\n",
    "- `pipe(pipe1)`\n",
    "- `read(pipe1[0], &c, 1);`\n",
    "- `write(pipe1[0], &c, 1);`\n",
    "- `close(pipe1[0]) close(pipe2[1]);`"
   ]
  }
 ],
 "metadata": {
  "kernelspec": {
   "display_name": ".venv",
   "language": "python",
   "name": "python3"
  },
  "language_info": {
   "name": "python",
   "version": "3.13.3"
  }
 },
 "nbformat": 4,
 "nbformat_minor": 5
}
