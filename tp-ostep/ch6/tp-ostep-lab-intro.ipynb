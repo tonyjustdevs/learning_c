{
 "cells": [
  {
   "cell_type": "markdown",
   "id": "ba970fdf",
   "metadata": {},
   "source": [
    "# `C Lab`"
   ]
  },
  {
   "cell_type": "markdown",
   "id": "26a29f1a",
   "metadata": {},
   "source": [
    "# 1. Compilation & Execution"
   ]
  },
  {
   "cell_type": "markdown",
   "id": "f2259f36",
   "metadata": {},
   "source": [
    "`gcc`:  coordinates many (4-5) steps of the compilation\n",
    "\n",
    "## 1.1 Compilation Steps\n",
    "- `gcc` \n",
    "    - executes `cpp` (C pre-processor)\n",
    "        - ie process certain directives (`#define`, `#include`).\n",
    "    - is a source-to-source translator, end-product is source code (`C` file).\n",
    "- `cc1` command: \n",
    "    - *transform* source-level `C` code \n",
    "    - into **low-level assembly code**,\n",
    "    - specific to **host machine**\n",
    "- `as`: **assembler** is *executed*\n",
    "    - generates **object code** (bits & things machine understand)\n",
    "- `ld`: **linker**\n",
    "    - puts all together into **final executable program**.\n"
   ]
  },
  {
   "cell_type": "markdown",
   "id": "e6433e20",
   "metadata": {},
   "source": [
    "# 2. Linking C Libraries\n",
    "- Dynamically-linked libraries (`.a`)\n",
    "- Statically-linked libraries (`.so`)"
   ]
  },
  {
   "cell_type": "markdown",
   "id": "758eb7fe",
   "metadata": {},
   "source": [
    "## 2.1 Statically-linked libraries (`.so`)\n",
    "\n",
    "Statically-linked libraries are:\n",
    "- combined directly into your executable\n",
    "    - ie, low-level code inserted directly into your exe\n",
    "    - by `linker`\n",
    "    - *larger* **binary object**"
   ]
  },
  {
   "cell_type": "markdown",
   "id": "3b430a7d",
   "metadata": {},
   "source": [
    "## 2.2 Dynamically-linked libraries (`.a`)\n",
    "DLLs just includes:\n",
    "- **reference** to library in your exe\n",
    "- *preferred* as saves disk space \n",
    "    - ie no unncessarily large exe\n",
    "    - eg `gcc -o hw hw.c -lm`"
   ]
  },
  {
   "cell_type": "markdown",
   "id": "22432128",
   "metadata": {},
   "source": [
    "# 3. Separate Compilation\n",
    "Program (as it get larger) may be:  \n",
    "- ***split*** into separate files\n",
    "- ***compiling*** each separately\n",
    "- ***linking*** them together\n",
    "\n"
   ]
  },
  {
   "cell_type": "markdown",
   "id": "512bf200",
   "metadata": {},
   "source": [
    "## 3.1 Example two files: `hw.c` & `helper.c`\n",
    "\n",
    "- `gcc -Wall -O -c hw.c`: create object file `hw.o` (with optimation & extra warnings)\n",
    "- `gcc -Wall -O -c helper.c`: create object file `helper.o`\n",
    "- `gcc -o hw hw.o helper.o -lm` ('**link line**'): \n",
    "    - `gcc` sees files are object files `.o` (not source file `.c`), skips to last step and \n",
    "    - ***invokes*** **link-editor** `ld`\n",
    "    - into **single executable**\n",
    "    - this line is known as **'link line'**, due to its function.\n",
    "    - ie where **link-specific** commands are specified (e.g. `-lm`)\n",
    "\n",
    "## 3.2 Other Linking Steps\n",
    "- add `helper.h` file\n",
    "- add `include \"helper.h\"` at top of `.c` files\n",
    "\n",
    "## 3.3 Example terminal cmds:\n",
    "- $ `gcc -Wall -O -g -no-pie -c helper.c`\n",
    "- $ `gcc -Wall -O -g -no-pie -c helper_doggo.c`\n",
    "- $ `gcc -Wall -O -g -no-pie -c hw.c`\n",
    "- $ `gcc -o hw helper.c helper_doggo.c hw.c`"
   ]
  },
  {
   "cell_type": "markdown",
   "id": "55935012",
   "metadata": {},
   "source": [
    "# 4. All Compilation Source Files\n",
    "`gcc -Wall -o hw hw.c helper.c`: \n",
    "- Specific all C source files in a single line\n",
    "- requires ***recompile*** every source-file\n",
    "- time-consuming compared to separate compilation\n",
    "- only recompile files that have been edited\n"
   ]
  },
  {
   "cell_type": "markdown",
   "id": "1380b41a",
   "metadata": {},
   "source": [
    "# 5. `Makefiles`\n",
    "It ***automate*** **build process**"
   ]
  },
  {
   "cell_type": "code",
   "execution_count": null,
   "id": "4287e8dc",
   "metadata": {
    "vscode": {
     "languageId": "shellscript"
    }
   },
   "outputs": [],
   "source": [
    "# sample makefile\n",
    "# run with 'make' then 'make clean'\n",
    "hw: hw.o helper.o\n",
    "\tgcc -o hw hw.o helper.o -lm\n",
    "\n",
    "hw.o: hw.c\n",
    "\tgcc -O -Wall -c hw.c\n",
    "\n",
    "helper.o: helper.c\n",
    "\tgcc -O -Wall -c helper.c\n",
    "\n",
    "clean:\n",
    "\trm -f helper.o hw.o hw"
   ]
  },
  {
   "cell_type": "markdown",
   "id": "0bc6a3d9",
   "metadata": {},
   "source": []
  },
  {
   "cell_type": "markdown",
   "id": "cc3002da",
   "metadata": {},
   "source": []
  },
  {
   "cell_type": "markdown",
   "id": "eea62398",
   "metadata": {},
   "source": []
  },
  {
   "cell_type": "markdown",
   "id": "022d6451",
   "metadata": {},
   "source": [
    "## A. Appendix: useful `gcc` compilation flags:\n",
    "\n",
    "#### A.1 Compilation (compile lines)\n",
    "- `-Wall`: better **warnings**\n",
    "- `-g`: enable **debugging**\n",
    "- `O`: turn on **optimisation**\n",
    "\n",
    "#### A.2 Headers & Libiraries (link lines):\n",
    "- `-I/foo/bar`: search **headers** in `/foo/bar` (compile line)\n",
    "- `-L/foo/bar`: search **libaries** in `/foo/bar` (link line)\n",
    "\n",
    "#### A.3 Source, Object Files & Executables\n",
    "- `-c`: create **object file** (`.o`): machine-level rep of the code with each source file.  \n",
    "- `-o`:  ***link*** object files into single executable"
   ]
  },
  {
   "cell_type": "markdown",
   "id": "4854f655",
   "metadata": {},
   "source": [
    "# Misc\n",
    "\n",
    "## M.1 Input (`scanf`, `fgets`)\n",
    "### 1.1 `scanf(arg1, arg2)`:\n",
    "`scanf(arg1, arg2)` : **User Input** from `stdin` (ie your terminal)\n",
    "- `arg1`: format specifier\n",
    "- `arg2`: address of variable (e.g. `&x`, `name`)\n",
    "- `rv`: returns number variables you scanned\n",
    "- `limitations`: terminate characters: the first *spaces*, *tabs*, *endlines*, etc\n",
    "\n",
    "| Pointer       | Format Specifier |\n",
    "| ------------- | ---------------- |\n",
    "| `float *`     | use `%f`         |\n",
    "| `char *`      | use `%c`         |\n",
    "| `short *`     | use `%hd`        |\n",
    "| `long *`      | use `%ld`        |\n",
    "| `long long *` | use `%lld`       |\n"
   ]
  },
  {
   "cell_type": "markdown",
   "id": "8757da7b",
   "metadata": {},
   "source": [
    "### 1.2 `fgets(arg1, arg2, arg3)`\n",
    "`fgets(arg1, arg2, arg3)`: **User Input** advanced\n",
    "- `arg1`: variable name (an array, e.g. `some_chars`) (decays to `char *`)\n",
    "- `arg2`: bytes to read (eg `sizeof(some_chars)`)\n",
    "- `stream`: \n",
    "    - `stdin` for terminal\n",
    "    - `pFile` pointer to FILE\n",
    "Sample Code:\n",
    "- `while(fgets(input_chars, sizeof(input_chars), pFile)!=0){...}`"
   ]
  },
  {
   "cell_type": "markdown",
   "id": "dce53fb8",
   "metadata": {},
   "source": []
  },
  {
   "cell_type": "markdown",
   "id": "a5e883e9",
   "metadata": {},
   "source": []
  },
  {
   "cell_type": "markdown",
   "id": "08b255bb",
   "metadata": {},
   "source": []
  },
  {
   "cell_type": "markdown",
   "id": "f644a817",
   "metadata": {},
   "source": []
  },
  {
   "cell_type": "markdown",
   "id": "30371240",
   "metadata": {},
   "source": []
  },
  {
   "cell_type": "markdown",
   "id": "5531d8b9",
   "metadata": {},
   "source": []
  },
  {
   "cell_type": "markdown",
   "id": "e397078e",
   "metadata": {},
   "source": []
  },
  {
   "cell_type": "markdown",
   "id": "5c66770c",
   "metadata": {},
   "source": []
  },
  {
   "cell_type": "markdown",
   "id": "d3af9909",
   "metadata": {},
   "source": []
  },
  {
   "cell_type": "markdown",
   "id": "52d069f9",
   "metadata": {},
   "source": []
  },
  {
   "cell_type": "markdown",
   "id": "daab77e8",
   "metadata": {},
   "source": []
  }
 ],
 "metadata": {
  "kernelspec": {
   "display_name": ".venv",
   "language": "python",
   "name": "python3"
  },
  "language_info": {
   "codemirror_mode": {
    "name": "ipython",
    "version": 3
   },
   "file_extension": ".py",
   "mimetype": "text/x-python",
   "name": "python",
   "nbconvert_exporter": "python",
   "pygments_lexer": "ipython3",
   "version": "3.13.3"
  }
 },
 "nbformat": 4,
 "nbformat_minor": 5
}
