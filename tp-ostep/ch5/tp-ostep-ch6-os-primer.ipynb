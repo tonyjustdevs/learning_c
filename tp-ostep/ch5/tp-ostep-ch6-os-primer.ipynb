{
 "cells": [
  {
   "cell_type": "markdown",
   "metadata": {},
   "source": [
    "# OSTEP CH6: OS & CPU Primer\n",
    "- CPU has **special register** that stores the memory address of the `trap table`.\n",
    "- OS loads this register at boot time to tell the CPU, \"Here’s where the trap table lives in memory.\""
   ]
  },
  {
   "cell_type": "markdown",
   "metadata": {},
   "source": [
    "# Step-by-Step\n"
   ]
  },
  {
   "cell_type": "markdown",
   "metadata": {
    "vscode": {
     "languageId": "plaintext"
    }
   },
   "source": [
    "### 1. What Is A Trap\n",
    "A `trap` (or exception/interrupt) is \n",
    "- an **event** causing \n",
    "- the **CPU**\n",
    "    - to **temporarily stop** *executing*\n",
    "        - of **current program** \n",
    "    - to **switch** *execution* \n",
    "        - to a **special handler routine** (usually part of OS)\n",
    "\n",
    "### 2. Trap Types\n",
    "- System calls  (intentional traps caused by user programs).\n",
    "- Hardware interrupts  (e.g., I/O completion).\n",
    "- Faults  (e.g., page faults).\n",
    "- Aborts  (e.g., double fault)."
   ]
  },
  {
   "cell_type": "markdown",
   "metadata": {},
   "source": [
    "### 3. System Calls\n",
    "System call traps:\n",
    "- are **explicitly invoked**\n",
    "- by **user program** (e.g. `open()`)\n",
    "- using **special instruction** or **trap instruction** (e.g. `syscall`, `int 0x80`) or **software interrup**\n",
    "Laymens:\n",
    "- Program tells the CPU\n",
    "    - \"Hey Cuz, I need to switch to kernel mode & let OS handle this request\"\n",
    "\n",
    "### 4. What Happens When A Trap Occurs?\n",
    "When a trap (e.g. system call) happens, CPU must:\n",
    "- SAve\n"
   ]
  },
  {
   "cell_type": "markdown",
   "metadata": {},
   "source": []
  },
  {
   "cell_type": "markdown",
   "metadata": {},
   "source": []
  },
  {
   "cell_type": "markdown",
   "metadata": {},
   "source": []
  },
  {
   "cell_type": "markdown",
   "metadata": {},
   "source": []
  },
  {
   "cell_type": "markdown",
   "metadata": {},
   "source": []
  },
  {
   "cell_type": "markdown",
   "metadata": {},
   "source": []
  },
  {
   "cell_type": "markdown",
   "metadata": {},
   "source": []
  }
 ],
 "metadata": {
  "kernelspec": {
   "display_name": ".venv",
   "language": "python",
   "name": "python3"
  },
  "language_info": {
   "codemirror_mode": {
    "name": "ipython",
    "version": 3
   },
   "file_extension": ".py",
   "mimetype": "text/x-python",
   "name": "python",
   "nbconvert_exporter": "python",
   "pygments_lexer": "ipython3",
   "version": "3.13.3"
  }
 },
 "nbformat": 4,
 "nbformat_minor": 2
}
