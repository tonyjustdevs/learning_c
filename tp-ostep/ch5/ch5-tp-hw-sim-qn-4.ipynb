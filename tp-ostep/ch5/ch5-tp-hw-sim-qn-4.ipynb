{
 "cells": [
  {
   "cell_type": "markdown",
   "metadata": {},
   "source": [
    "# ch-5-tp-hw-qn4-cpu-api\n",
    "Orphaned Kids\n",
    "\n",
    "\n"
   ]
  },
  {
   "cell_type": "markdown",
   "metadata": {},
   "source": [
    "# Q4 `-A a+b, b+c, c+d, c+e, c-`\n",
    "**Setup**: \n",
    "- `a` create `b` \n",
    "- `b` creates `c`\n",
    "- `c` creates `d` & `e`\n",
    "- `c` exits\n",
    "\n",
    "**Task**:\n",
    "- Describe what `process_tree` looks like after `c` exits:\n",
    "- Add `-R` flag?\n",
    "\n",
    "**Help**\n",
    "- `python3 fork.py --help`                   \n"
   ]
  },
  {
   "cell_type": "markdown",
   "metadata": {
    "vscode": {
     "languageId": "plaintext"
    }
   },
   "source": [
    "# Q4A `process_tree` attempt: expected output\n",
    "\n",
    "*Before* `c` Exit Expected Output:\n",
    "    \n",
    "    a\n",
    "    |\n",
    "    b\n",
    "    |\n",
    "    c-d\n",
    "    |-e\n",
    "\n",
    "\n",
    "*After* `c` Exit Expected Output:\n",
    "\n",
    "    a\n",
    "    |\n",
    "    b\n",
    "    |\n",
    "    ?-d\n",
    "    ?-e"
   ]
  },
  {
   "cell_type": "markdown",
   "metadata": {},
   "source": [
    "# Q4B `process_tree` attempt: commentary\n",
    "\n",
    "    a\n",
    "    |\n",
    "    b\n",
    "\n",
    "    e,f are orphaned kids without parents 🥲`"
   ]
  },
  {
   "cell_type": "markdown",
   "metadata": {
    "vscode": {
     "languageId": "plaintext"
    }
   },
   "source": [
    "# Q4C `process_tree` solution: **without** `-R`:\n",
    "Run `./fork.py -A a+b,b+c,c+d,c+e,c- -c`"
   ]
  },
  {
   "cell_type": "code",
   "execution_count": 16,
   "metadata": {},
   "outputs": [
    {
     "name": "stdout",
     "output_type": "stream",
     "text": [
      "\n",
      "ARG seed -1\n",
      "ARG fork_percentage 0.7\n",
      "ARG actions 5\n",
      "ARG action_list a+b,b+c,c+d,c+e,c-\n",
      "ARG show_tree False\n",
      "ARG just_final False\n",
      "ARG leaf_only False\n",
      "ARG local_reparent False\n",
      "ARG print_style fancy\n",
      "ARG solve True\n",
      "\n",
      "                           Process Tree:\n",
      "                               a\n",
      "\n",
      "Action: a forks b\n",
      "                               a\n",
      "                               └── b\n",
      "Action: b forks c\n",
      "                               a\n",
      "                               └── b\n",
      "                                   └── c\n",
      "Action: c forks d\n",
      "                               a\n",
      "                               └── b\n",
      "                                   └── c\n",
      "                                       └── d\n",
      "Action: c forks e\n",
      "                               a\n",
      "                               └── b\n",
      "                                   └── c\n",
      "                                       ├── d\n",
      "                                       └── e\n",
      "Action: c EXITS\n",
      "                               a\n",
      "                               ├── b\n",
      "                               ├── d\n",
      "                               └── e\n"
     ]
    }
   ],
   "source": [
    "!og/hw-cpu-api/fork.py -A a+b,b+c,c+d,c+e,c- -c"
   ]
  },
  {
   "cell_type": "markdown",
   "metadata": {},
   "source": [
    "# Q4D `process_tree` solution: with `-R`:\n",
    "Run `./fork.py -A a+b,b+c,c+d,c+e,c- -c -R`\n"
   ]
  },
  {
   "cell_type": "code",
   "execution_count": 19,
   "metadata": {},
   "outputs": [
    {
     "name": "stdout",
     "output_type": "stream",
     "text": [
      "\n",
      "ARG seed -1\n",
      "ARG fork_percentage 0.7\n",
      "ARG actions 5\n",
      "ARG action_list a+b,b+c,c+d,c+e,c-\n",
      "ARG show_tree False\n",
      "ARG just_final False\n",
      "ARG leaf_only False\n",
      "ARG local_reparent True\n",
      "ARG print_style fancy\n",
      "ARG solve True\n",
      "\n",
      "                           Process Tree:\n",
      "                               a\n",
      "\n",
      "Action: a forks b\n",
      "                               a\n",
      "                               └── b\n",
      "Action: b forks c\n",
      "                               a\n",
      "                               └── b\n",
      "                                   └── c\n",
      "Action: c forks d\n",
      "                               a\n",
      "                               └── b\n",
      "                                   └── c\n",
      "                                       └── d\n",
      "Action: c forks e\n",
      "                               a\n",
      "                               └── b\n",
      "                                   └── c\n",
      "                                       ├── d\n",
      "                                       └── e\n",
      "Action: c EXITS\n",
      "                               a\n",
      "                               └── b\n",
      "                                   ├── d\n",
      "                                   └── e\n"
     ]
    }
   ],
   "source": [
    "!og/hw-cpu-api/fork.py -A a+b,b+c,c+d,c+e,c- -c -R"
   ]
  },
  {
   "cell_type": "markdown",
   "metadata": {},
   "source": [
    "# Q4E `process_tree` solution: Summary\n",
    "- Without `R`: \n",
    "    - `orphaned_kids` (or orphaned processes) will attach to top parent or `a`\n",
    "- With `R`: \n",
    "    - `orphaned kids` will attach to previous parent's parents or grandparents\n",
    "\n",
    "Other:\n",
    "- Printing Uni-box drawing charcters \n",
    "    - `print('\\u251C')` will print `├`\n",
    "    - `print('\\u2514')` will print `└`\n"
   ]
  },
  {
   "cell_type": "code",
   "execution_count": 20,
   "metadata": {},
   "outputs": [
    {
     "name": "stdout",
     "output_type": "stream",
     "text": [
      "├\n",
      "└\n"
     ]
    }
   ],
   "source": [
    "print('\\u251C')\n",
    "print('\\u2514')"
   ]
  },
  {
   "cell_type": "code",
   "execution_count": null,
   "metadata": {},
   "outputs": [],
   "source": []
  },
  {
   "cell_type": "code",
   "execution_count": null,
   "metadata": {},
   "outputs": [],
   "source": []
  },
  {
   "cell_type": "code",
   "execution_count": null,
   "metadata": {},
   "outputs": [],
   "source": []
  },
  {
   "cell_type": "markdown",
   "metadata": {},
   "source": []
  },
  {
   "cell_type": "markdown",
   "metadata": {},
   "source": []
  },
  {
   "cell_type": "markdown",
   "metadata": {},
   "source": []
  }
 ],
 "metadata": {
  "kernelspec": {
   "display_name": ".venv",
   "language": "python",
   "name": "python3"
  },
  "language_info": {
   "codemirror_mode": {
    "name": "ipython",
    "version": 3
   },
   "file_extension": ".py",
   "mimetype": "text/x-python",
   "name": "python",
   "nbconvert_exporter": "python",
   "pygments_lexer": "ipython3",
   "version": "3.13.3"
  }
 },
 "nbformat": 4,
 "nbformat_minor": 2
}
