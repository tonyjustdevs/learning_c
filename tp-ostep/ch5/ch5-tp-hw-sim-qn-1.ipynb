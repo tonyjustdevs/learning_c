{
 "cells": [
  {
   "cell_type": "markdown",
   "metadata": {},
   "source": [
    "# ch-5-tp-hw-qn1-cpu-api"
   ]
  },
  {
   "cell_type": "markdown",
   "metadata": {},
   "source": [
    "# Q1: Code `./fork.py -s 10` \n",
    "**Setup**: Run `./fork.py -s 10` (run with seed `10`)\n",
    "`\n",
    "**Task**: Predict the `process-tree`\n",
    "- Use `-c` to check answers\n",
    "- Use `-s` for random seeds\n",
    "- Use `-a` to add more actions"
   ]
  },
  {
   "cell_type": "markdown",
   "metadata": {},
   "source": [
    "# Q1 TP Solution Attempt\n",
    "## Q1.1 Program Output (or Actions)"
   ]
  },
  {
   "cell_type": "code",
   "execution_count": 12,
   "metadata": {},
   "outputs": [
    {
     "name": "stdout",
     "output_type": "stream",
     "text": [
      "\n",
      "ARG seed 10\n",
      "ARG fork_percentage 0.7\n",
      "ARG actions 5\n",
      "ARG action_list \n",
      "ARG show_tree False\n",
      "ARG just_final False\n",
      "ARG leaf_only False\n",
      "ARG local_reparent False\n",
      "ARG print_style fancy\n",
      "ARG solve False\n",
      "\n",
      "                           Process Tree:\n",
      "                               a\n",
      "\n",
      "Action: a forks b\n",
      "Process Tree?\n",
      "Action: a forks c\n",
      "Process Tree?\n",
      "Action: c EXITS\n",
      "Process Tree?\n",
      "Action: a forks d\n",
      "Process Tree?\n",
      "Action: a forks e\n",
      "Process Tree?\n"
     ]
    }
   ],
   "source": [
    "!./og/fork.py -s 10"
   ]
  },
  {
   "cell_type": "markdown",
   "metadata": {},
   "source": [
    "## Q1.2 Summarised Output\n",
    "\n",
    "    Action: a forks b\n",
    "    Action: a forks c\n",
    "    Action: c EXITS\n",
    "    Action: a forks d\n",
    "    Action: a forks e"
   ]
  },
  {
   "cell_type": "markdown",
   "metadata": {},
   "source": [
    "## Q1.3 Process Tree (with Summarised Output)\n",
    "\n",
    "    Action: a forks b\n",
    "    a\n",
    "    |-b     <----- a forks b\n",
    "    \n",
    "    Action: a forks c\n",
    "    a\n",
    "    |-b\n",
    "    |-c     <-----a forks c\n",
    "    \n",
    "    Action: c EXITS\n",
    "    a\n",
    "    |-b\n",
    "            <-----c EXITS\n",
    "    \n",
    "    Action: a forks d\n",
    "    a\n",
    "    |-b\n",
    "    |-d     <-----a forks d\n",
    "\n",
    "    Action: a forks e\n",
    "    a\n",
    "    |-b\n",
    "    |-d \n",
    "    |-e     <-----a forks e"
   ]
  },
  {
   "cell_type": "markdown",
   "metadata": {},
   "source": [
    "## Q1.4 Final Process Tree\n",
    "\n",
    "    a\n",
    "    |-b\n",
    "    |-d \n",
    "    |-e"
   ]
  },
  {
   "cell_type": "markdown",
   "metadata": {},
   "source": [
    "## 1.5 Check Answers (`-c`)"
   ]
  },
  {
   "cell_type": "code",
   "execution_count": 13,
   "metadata": {},
   "outputs": [
    {
     "name": "stdout",
     "output_type": "stream",
     "text": [
      "\n",
      "ARG seed 10\n",
      "ARG fork_percentage 0.7\n",
      "ARG actions 5\n",
      "ARG action_list \n",
      "ARG show_tree False\n",
      "ARG just_final False\n",
      "ARG leaf_only False\n",
      "ARG local_reparent False\n",
      "ARG print_style fancy\n",
      "ARG solve True\n",
      "\n",
      "                           Process Tree:\n",
      "                               a\n",
      "\n",
      "Action: a forks b\n",
      "                               a\n",
      "                               └── b\n",
      "Action: a forks c\n",
      "                               a\n",
      "                               ├── b\n",
      "                               └── c\n",
      "Action: c EXITS\n",
      "                               a\n",
      "                               └── b\n",
      "Action: a forks d\n",
      "                               a\n",
      "                               ├── b\n",
      "                               └── d\n",
      "Action: a forks e\n",
      "                               a\n",
      "                               ├── b\n",
      "                               ├── d\n",
      "                               └── e\n"
     ]
    }
   ],
   "source": [
    "!./og/fork.py -s 10 -c"
   ]
  }
 ],
 "metadata": {
  "kernelspec": {
   "display_name": ".venv",
   "language": "python",
   "name": "python3"
  },
  "language_info": {
   "codemirror_mode": {
    "name": "ipython",
    "version": 3
   },
   "file_extension": ".py",
   "mimetype": "text/x-python",
   "name": "python",
   "nbconvert_exporter": "python",
   "pygments_lexer": "ipython3",
   "version": "3.13.3"
  }
 },
 "nbformat": 4,
 "nbformat_minor": 2
}
