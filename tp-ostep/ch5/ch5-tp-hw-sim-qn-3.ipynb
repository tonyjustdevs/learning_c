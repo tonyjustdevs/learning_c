{
 "cells": [
  {
   "cell_type": "markdown",
   "metadata": {},
   "source": [
    "# ch-5-tp-hw-qn3-cpu-api\n"
   ]
  },
  {
   "cell_type": "markdown",
   "metadata": {},
   "source": [
    "# Q3: Simulation `./fork.py -s 5 -t`\n",
    "**Setup**: \n",
    "- Set Seed 5 (or any abitrary value)\n",
    "- Use `process_tree` or `-t` to see the process tree\n",
    "\n",
    "**Task**: \n",
    "- Predict the `action` as different levels of `process_tree` (`-t`) for the specific seeds"
   ]
  },
  {
   "cell_type": "markdown",
   "metadata": {},
   "source": [
    "# Q3a: Output"
   ]
  },
  {
   "cell_type": "code",
   "execution_count": 20,
   "metadata": {},
   "outputs": [
    {
     "name": "stdout",
     "output_type": "stream",
     "text": [
      "\n",
      "ARG seed 5\n",
      "ARG fork_percentage 0.7\n",
      "ARG actions 5\n",
      "ARG action_list \n",
      "ARG show_tree True\n",
      "ARG just_final False\n",
      "ARG leaf_only False\n",
      "ARG local_reparent False\n",
      "ARG print_style fancy\n",
      "ARG solve False\n",
      "\n",
      "                           Process Tree:\n",
      "                               a\n",
      "\n",
      "Action?\n",
      "                               a\n",
      "                               └── b\n",
      "Action?\n",
      "                               a\n",
      "Action?\n",
      "                               a\n",
      "                               └── c\n",
      "Action?\n",
      "                               a\n",
      "Action?\n",
      "                               a\n",
      "                               └── d\n"
     ]
    }
   ],
   "source": [
    "!./og/hw-cpu-api/fork.py -s 5 -t"
   ]
  },
  {
   "cell_type": "markdown",
   "metadata": {},
   "source": [
    "# Q3b: Attempt\n",
    "- `a` fork `b`\n",
    "- `b` exits\n",
    "- `a` fork `c`\n",
    "- `c` exits\n",
    "- `a` fork `d`\n"
   ]
  },
  {
   "cell_type": "markdown",
   "metadata": {},
   "source": [
    "# Q3c: Solution Output"
   ]
  },
  {
   "cell_type": "code",
   "execution_count": 22,
   "metadata": {},
   "outputs": [
    {
     "name": "stdout",
     "output_type": "stream",
     "text": [
      "\n",
      "ARG seed 5\n",
      "ARG fork_percentage 0.7\n",
      "ARG actions 5\n",
      "ARG action_list \n",
      "ARG show_tree False\n",
      "ARG just_final True\n",
      "ARG leaf_only False\n",
      "ARG local_reparent False\n",
      "ARG print_style fancy\n",
      "ARG solve False\n",
      "\n",
      "                           Process Tree:\n",
      "                               a\n",
      "\n",
      "Action: a forks b\n",
      "Action: b EXITS\n",
      "Action: a forks c\n",
      "Action: c EXITS\n",
      "Action: a forks d\n",
      "\n",
      "                        Final Process Tree?\n",
      "\n"
     ]
    }
   ],
   "source": [
    "!./og/hw-cpu-api/fork.py -s 5 -F\n"
   ]
  },
  {
   "cell_type": "markdown",
   "metadata": {},
   "source": [
    "# Q3d: Review\n",
    "\n",
    "Correct, except for spelling.\n"
   ]
  }
 ],
 "metadata": {
  "kernelspec": {
   "display_name": ".venv",
   "language": "python",
   "name": "python3"
  },
  "language_info": {
   "codemirror_mode": {
    "name": "ipython",
    "version": 3
   },
   "file_extension": ".py",
   "mimetype": "text/x-python",
   "name": "python",
   "nbconvert_exporter": "python",
   "pygments_lexer": "ipython3",
   "version": "3.13.3"
  }
 },
 "nbformat": 4,
 "nbformat_minor": 2
}
