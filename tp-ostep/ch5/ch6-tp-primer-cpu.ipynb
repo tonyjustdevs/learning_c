{
 "cells": [
  {
   "cell_type": "markdown",
   "id": "7a1dcfcf",
   "metadata": {},
   "source": [
    "# CPU\n",
    "\n",
    "# 1. CPU\n",
    "\n",
    "## 1.1 Different Architectures\n",
    "There are various CPU architectures\n",
    "- x86-64\n",
    "- ARM\n",
    "- RISC-V"
   ]
  },
  {
   "cell_type": "markdown",
   "id": "4776ce8b",
   "metadata": {},
   "source": [
    "## 1.2 Different Characteristics\n",
    "Different CPUS have:\n",
    "- Different **instruction sets**\n",
    "- Different **register names** and purposes\n",
    "- Different **calling conventions**\n",
    "\n",
    "This simplies `System Calls` are **CPU-Specific** or unique."
   ]
  },
  {
   "cell_type": "markdown",
   "id": "4997b100",
   "metadata": {},
   "source": [
    "# 2. CPU System Call\n",
    "The **exact rules** to make a system call depends on the CPU architecture.\n",
    "\n",
    "# 2.1 Exact Rules (CPU specific)\n",
    "- which **instruction** triggers trap (`syscall`, `svc`, `ecall`)\n",
    "- which **registers** used to pass\n",
    "    - the **syscall number**\n",
    "    - the **arguments**\n",
    "    - the **return value**\n"
   ]
  },
  {
   "cell_type": "markdown",
   "id": "b1ac2de0",
   "metadata": {},
   "source": []
  },
  {
   "cell_type": "markdown",
   "id": "5ad22643",
   "metadata": {},
   "source": []
  },
  {
   "cell_type": "raw",
   "id": "e5d0c3a9",
   "metadata": {},
   "source": []
  },
  {
   "cell_type": "markdown",
   "id": "c7662aca",
   "metadata": {},
   "source": []
  },
  {
   "cell_type": "markdown",
   "id": "1410dda1",
   "metadata": {},
   "source": []
  },
  {
   "cell_type": "markdown",
   "id": "b5eb0bdf",
   "metadata": {},
   "source": [
    "\n",
    "## 1. Open File in `C`\n",
    "`int fd = open(\"myfile.txt\", O_RDONLY);`\n",
    "- `open()` is a wrapper function\n",
    "- prepares `arguments`\n",
    "- invokes `system call`\n",
    "\n",
    "## 2. `syscall` interface\n",
    "On x86-64 Linux:\n",
    "| Register  | Meaning                       |\n",
    "| --------- | ----------------------------- |\n",
    "| `rax`     | syscall number                |\n",
    "| `rdi`     | 1st argument                  |\n",
    "| `rsi`     | 2nd argument                  |\n",
    "| `rdx`     | 3rd argument                  |\n",
    "| `syscall` | instruction to jump to kernel |\n",
    "\n"
   ]
  },
  {
   "cell_type": "markdown",
   "id": "56b916c3",
   "metadata": {},
   "source": [
    "## 3. `glibc` does:\n",
    "\n",
    "    mov rax, 257         ; syscall number for openat\n",
    "    mov rdi, AT_FDCWD    ; dirfd (special value)\n",
    "    mov rsi, pathname    ; pointer to string\n",
    "    mov rdx, flags\n",
    "    mov r10, mode\n",
    "    syscall              ; switch to kernel mode\n"
   ]
  },
  {
   "cell_type": "raw",
   "id": "99b44025",
   "metadata": {},
   "source": [
    "+-------------------------+\n",
    "|    Kernel Code (Text)   |\n",
    "+-------------------------+       ← Kernel Space\n",
    "|    Kernel Heap          |\n",
    "|    Kernel Stack (per process)\n",
    "+-------------------------+  <- CPU mode switches here on syscall\n",
    "|-------------------------|\n",
    "|     User Stack          |\n",
    "|     Environment/Args    |\n",
    "|     Heap (malloc/free)  |\n",
    "|     Data (.data, .bss)  |\n",
    "|     Code (.text)        |\n",
    "+-------------------------+       ← User Space\n"
   ]
  },
  {
   "cell_type": "markdown",
   "id": "39b413ef",
   "metadata": {},
   "source": []
  },
  {
   "cell_type": "markdown",
   "id": "cd090e33",
   "metadata": {},
   "source": []
  },
  {
   "cell_type": "markdown",
   "id": "b2ab126b",
   "metadata": {},
   "source": [
    "# `user space` & `kernel space`\n",
    "- Even though both `spaces` are in RAM, program cant touch `kernel space`\n",
    "\n",
    "| Space      | Accessed By  | Contents                                      |\n",
    "| ---------- | ------------ | --------------------------------------------- |\n",
    "| **User**   | Your app     | App code, variables, stack, heap, etc.        |\n",
    "| **Kernel** | OS only      | File systems, device drivers, scheduler, etc. |"
   ]
  },
  {
   "cell_type": "markdown",
   "id": "57dc9c56",
   "metadata": {},
   "source": [
    "# `user space`\n",
    "1. A program runs on computer by *executing* **machine instructions** in **RAM**\n",
    "2. The OS uses **hardware** to create illusion that each program *thinks* its own whole computer, but its just a **restricted** portion of memory (cant touch outside).\n"
   ]
  },
  {
   "cell_type": "markdown",
   "id": "3303cb93",
   "metadata": {},
   "source": [
    "# CPU modes\n",
    "- User Mode = limited privilege (user space memory pages)\n",
    "- Kernel Mode = full access\n",
    "\n",
    "OS sets up Virtual Memory using Page Tables\n",
    "Page Tables define which memory areas (user or kernel), the process/program can read/write/execute"
   ]
  },
  {
   "cell_type": "markdown",
   "id": "49dd4078",
   "metadata": {},
   "source": [
    "# Binary into User Space Memory\n",
    "\n",
    "Kernel sets all this up.\n",
    "Only accessible in `user mode`\n",
    "\n",
    "| Component    | Description                             |\n",
    "| ------------ | --------------------------------------- |\n",
    "| Code segment | The actual machine instructions         |\n",
    "| Data segment | Global/static variables                 |\n",
    "| Heap         | Dynamically allocated memory (`malloc`) |\n",
    "| Stack        | Function call frames and local vars     |\n",
    "\n",
    "# Virtual Memory vs User Space\n",
    "\n",
    "- User space is a region inside virtual memory\n",
    "- Virtual memory is the broader idea of per-process address isolation + mapping\n",
    "\n",
    "| Term               | What It Is                                                                           |\n",
    "| ------------------ | ------------------------------------------------------------------------------------ |\n",
    "| **Virtual memory** | A hardware + OS technique to give each process its own private, fake view of memory. |\n",
    "| **User space**     | The *region* of virtual memory that the OS assigns to a user program.                |\n"
   ]
  },
  {
   "cell_type": "markdown",
   "id": "559c2dfe",
   "metadata": {},
   "source": [
    "# Virtual Address Space of a Process"
   ]
  },
  {
   "cell_type": "raw",
   "id": "ec98084b",
   "metadata": {
    "vscode": {
     "languageId": "raw"
    }
   },
   "source": [
    "    High Address\n",
    "    ┌────────────────────────────┐\n",
    "    │ Stack (grows downward)     │ ← starts near 0x7fffffffffff\n",
    "    ├────────────────────────────┤\n",
    "    │ [Shared libraries]         │ ← loaded by dynamic linker (ld.so)\n",
    "    ├────────────────────────────┤\n",
    "    │ Heap (grows upward)        │ ← starts after .data segment\n",
    "    ├────────────────────────────┤\n",
    "    │ .bss / .data (globals)     │\n",
    "    ├────────────────────────────┤\n",
    "    │ .text (your code)          │ ← usually around 0x00400000\n",
    "    ├────────────────────────────┤\n",
    "    │ NULL (unmapped)            │ ← invalid memory\n",
    "    └────────────────────────────┘\n",
    "    Low Address\n"
   ]
  },
  {
   "cell_type": "markdown",
   "id": "e52c697e",
   "metadata": {},
   "source": [
    "# Page Tables\n",
    "\n",
    "The `kernel` tells the `CPU`:\n",
    "- \"For this process, when it accesses virtual address X, map that to physical address Y, but only allow these permissions (R/W/X).\""
   ]
  },
  {
   "cell_type": "raw",
   "id": "c86caaed",
   "metadata": {},
   "source": []
  },
  {
   "cell_type": "markdown",
   "id": "18d8dc70",
   "metadata": {
    "vscode": {
     "languageId": "raw"
    }
   },
   "source": [
    "# Explainer: `open()` from `glibc`\n",
    "\n",
    "#### 1. `int fd = open(\"file.txt\", O_RDONLY);`\n",
    "- Looks like regular C function or or procedure call\n",
    "- Inside exists: **special assembly instruction** (a famous trap instruction)\n",
    "    - e.g. `syscall` (x86-64) or `int 0x80` (x86) — this is called a `trap`."
   ]
  },
  {
   "cell_type": "markdown",
   "id": "01b2dd8c",
   "metadata": {},
   "source": [
    "#### 1.1 The `trap`\n",
    "\n",
    "\n",
    "A `trap` is a CPU instruction that:\n",
    "- ***Switches*** **CPU**: \n",
    "    - from `user` mode to `kernel mode`\n",
    "- ***Starts executing*** a **function** **inside the OS**\n",
    "\n",
    "That’s what enters the kernel."
   ]
  },
  {
   "cell_type": "markdown",
   "id": "4f29ba5e",
   "metadata": {
    "vscode": {
     "languageId": "raw"
    }
   },
   "source": [
    "#### 1.2 The `trap`\n"
   ]
  },
  {
   "cell_type": "markdown",
   "id": "ab9eb8d7",
   "metadata": {},
   "source": [
    "# Kernel Sets Up Kernel Space\n",
    "\n",
    "| Step | Action                                                     | Detailed  | Code |\n",
    "| ---- | ---------------------------------------------------------- | --------- | ---- |\n",
    "| 1    | You run a program (`a.out` via `execve`)                   | `fork()`, `execve()`: Replace process memory with ./a.out\"  | n/a |\n",
    "| 2    | Kernel parses binary (ELF format)                          | Kernel reads `a.out` from disk &<br>- **parse** `ELF Headers`<br>- Tells kernel which segments (code, data, etc.) to load, and where      | LOAD segment:<br>-virtual address = 0x00400000<br>- size = 0x1000<br>- file offset = 0\n",
    "  file offset = 0\n",
    "| 3    | Sets up `page tables` to map code/data to virtual addresses|    asdf   |\n",
    "| 4    | Reserves space for stack/heap                              |   asdf    |\n",
    "| 5    | Switches to user mode and runs program at `_start`         |  asdf     |\n"
   ]
  }
 ],
 "metadata": {
  "kernelspec": {
   "display_name": ".venv",
   "language": "python",
   "name": "python3"
  },
  "language_info": {
   "codemirror_mode": {
    "name": "ipython",
    "version": 3
   },
   "file_extension": ".py",
   "mimetype": "text/x-python",
   "name": "python",
   "nbconvert_exporter": "python",
   "pygments_lexer": "ipython3",
   "version": "3.13.3"
  }
 },
 "nbformat": 4,
 "nbformat_minor": 5
}
