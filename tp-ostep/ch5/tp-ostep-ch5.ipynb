{
 "cells": [
  {
   "cell_type": "markdown",
   "metadata": {},
   "source": [
    "# OSTEP CH6: Process API\n",
    "Sections:\n",
    "1. `fork()`, [***calling fork()***], `p1.c`:\n",
    "    - rc, fork(), fprintf, stderr, %d, (int) getpid(), exit(1), if-else if-else.\n",
    "    - not **deterministic**?\n",
    "        - parent or child run?\n",
    "    - Importance of CPU **scheduler**\n",
    "\n",
    "2. `wait()`, [***calling fork() & wait***], `p2.c`:\n",
    "    - wait(NULL), waitpid()\n",
    "\n",
    "3. `exec()`, [***calling fork(), wait() & exec()***], `p3.c`:\n",
    "    - char *myargs[3], strup(\"\"), execvp()\n",
    "    - lampson's law\n",
    "4. *Interfaces 1*: **Redirection** [***calling close(), open()***], `p4.c`:\n",
    "    - close(STDOUT_FILENO), open\n",
    "5. *Interfaces 2*: **Process Control & Users** via **signals**:\n",
    "    - `kill()`, `signal()`, `SIGINT`, `SIGTSTP`, `fg`,\n",
    "6. *Interfaces 3*: **Useful Commands** (ps, top, killall)\n"
   ]
  },
  {
   "cell_type": "markdown",
   "metadata": {},
   "source": [
    "# OS Primer\n",
    "# 1. A System Call\n",
    "A **system call** is how a program:\n",
    "- ***requests*** a **service**\n",
    "- to perform a **priviledge operation**\n",
    "- that the program cannot do directly   \n",
    "- from the **OS**\n",
    "- e.g. When a program wants to:\n",
    "    - read file `read()`, \n",
    "    - allocate memory `brk()`, \n",
    "    - create new process `fork()`, \n",
    "    - talk to another computer `exec()`,\n",
    "    - program ***cannot directly*** do these, \n",
    "        - it ***must*** ask OS to do them.\n",
    "- e.g analogy: you cannot withdraw your money directly from the vault, you need to do it via ATM or branch.\n",
    "\n",
    "# 2. Not A System Call\n",
    "Regular function calls or Library Calls are not System Calls. They just run in programs space without talking to OS.\n",
    "E.g. `printf()`, `malloc()`, `strlen()`\n",
    "\n",
    "# 3. Tools\n",
    "- `strace ./myprogram`: shows only system calls made by a program.\n",
    "- `ltrace ./myprogram`: shows only library calls made by a program.\n",
    "- `man 2 fork`: Shows fork() system call documentation\n",
    "- `man 3 printf`: Shows printf() library fn "
   ]
  },
  {
   "cell_type": "markdown",
   "metadata": {},
   "source": [
    "\n",
    "|Categories|Examples|Purpose|\n",
    "|-|-|-|\n",
    "|Process Control \t        |fork(),exec(),exit(),wait()    |Create, manage, terminate processes|\n",
    "|File Management\t        |open(),read(),write(),close()  |Work with files|\n",
    "|Device Management\t        |ioctl(),mmap()                 |Communicate with devices|\n",
    "|Information Maintenance\t|getpid(),time(),gettimeofday() |Get system info|\n",
    "|Communication\t            |socket(),pipe(),send(),recv()  |Inter-process communication|"
   ]
  },
  {
   "cell_type": "markdown",
   "metadata": {},
   "source": [
    "# 1. `fork()`\n",
    "`fork()`:\n",
    "- is a system call\n",
    " \n",
    "\n"
   ]
  },
  {
   "cell_type": "markdown",
   "metadata": {},
   "source": [
    "\n",
    "\n",
    "\n",
    "\n",
    "## 1.1 fork results:\n",
    "- create fork()\n",
    "- not deterministic:\n",
    "    - parent can run, or,\n",
    "    - child can run\n",
    "\n",
    "![](imgs/ch5fork2.png)"
   ]
  },
  {
   "cell_type": "markdown",
   "metadata": {},
   "source": []
  },
  {
   "cell_type": "markdown",
   "metadata": {},
   "source": []
  },
  {
   "cell_type": "markdown",
   "metadata": {},
   "source": []
  },
  {
   "cell_type": "markdown",
   "metadata": {},
   "source": []
  },
  {
   "cell_type": "markdown",
   "metadata": {},
   "source": []
  },
  {
   "cell_type": "markdown",
   "metadata": {},
   "source": []
  },
  {
   "cell_type": "markdown",
   "metadata": {},
   "source": []
  },
  {
   "cell_type": "markdown",
   "metadata": {},
   "source": [
    "# 2. `wait()`\n",
    "# 3. `exec()`\n",
    "# 4. *Interfaces 1*: **Redirection**\n",
    "# 5. *Interfaces 1*: **Process Control**\n",
    "# 6. *Interfaces 1*: **Useful Commands**"
   ]
  },
  {
   "cell_type": "code",
   "execution_count": null,
   "metadata": {},
   "outputs": [],
   "source": []
  }
 ],
 "metadata": {
  "kernelspec": {
   "display_name": ".venv",
   "language": "python",
   "name": "python3"
  },
  "language_info": {
   "codemirror_mode": {
    "name": "ipython",
    "version": 3
   },
   "file_extension": ".py",
   "mimetype": "text/x-python",
   "name": "python",
   "nbconvert_exporter": "python",
   "pygments_lexer": "ipython3",
   "version": "3.13.3"
  }
 },
 "nbformat": 4,
 "nbformat_minor": 2
}
