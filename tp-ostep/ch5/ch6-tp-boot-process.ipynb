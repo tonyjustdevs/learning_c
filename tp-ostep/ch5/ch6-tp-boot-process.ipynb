{
 "cells": [
  {
   "cell_type": "markdown",
   "id": "7a1dcfcf",
   "metadata": {},
   "source": [
    "# Boot Process\n",
    "\n",
    "- Motherboard sends power to CPU (& other components)\n",
    "- CPU is designed (hardwired) to always start execution at 0xFFFF0 after reset (address points to beginning of BIOS/UEFI firmware in ROM)"
   ]
  },
  {
   "cell_type": "markdown",
   "id": "530de0c1",
   "metadata": {},
   "source": [
    "- **RESET signal** (physical signal) to CPU\n",
    "- CPU resets Internal Registers (to defaults)\n",
    "    - Instruction Pointer (IP) set to fixed **reset address** (reset vector) - built in CPU silicon design\n",
    "        - Address bus is set of physical wires (or signals) used by CPU\n",
    "        - CPU uses address bus to read/write. 32-bit address bus is $2^{32}$ = 4 GB of memory.\n",
    "        - CPU literally sets the electrical signals on addy-bus wires to the binary value\n",
    "    **Memory controller** \n",
    "        - Electric signals received (from address bus\n",
    "        - Decides what physical chip (RAM, ROM, etc.) will respond.\n",
    "    - CPU asks motherboard: \"what is at address `0xFFFF0`\"\n",
    "    - The address is mapped to the **ROM chip** (soldered on motherboard), which contains BIOS/UEFI code.\n",
    "    - Chipset on the motherboard decides which address ranges go to:\n",
    "        - RAM\n",
    "        - ROM\n",
    "        - Devices\n",
    "\n",
    "That’s why the RO\n"
   ]
  },
  {
   "cell_type": "markdown",
   "id": "6e666ac4",
   "metadata": {},
   "source": []
  },
  {
   "cell_type": "markdown",
   "id": "f67a8cdc",
   "metadata": {},
   "source": []
  },
  {
   "cell_type": "markdown",
   "id": "d344411d",
   "metadata": {},
   "source": [
    "# 16-bit x86 real mode boot-time\n",
    "\n",
    "## Real-World Analogy: Street Address System\n",
    "**Two Numbers Provided**:\n",
    "- **Block** number (which **block** e.g. **block** `5`)\n",
    "    - Note: Each **block** starts from **house** `0` & has `16` houses\n",
    "- **House** number (which **house** on the **block** e.g. number `8`)\n",
    "\n",
    "**Full Street Adress** is:\n",
    "- $=block*16+house$\n",
    "- $=5*16+8=88$\n",
    "- Go to $block$ `5`, then $house$ `8` in that block\n",
    "\n"
   ]
  },
  {
   "cell_type": "markdown",
   "id": "6fef7e64",
   "metadata": {},
   "source": [
    "1. Power stabilises, motherboard sends RESET signal to CPU.\n",
    "2. CPU in real mode (basic 16-bit mode, no paging/vm)\n",
    "3. CPU hardcores **instruction pointer**:\n",
    "- CS (code segment) = `0xF000`\n",
    "- IP (instruction pointer) = `0xFFF0` \n",
    "\n",
    "        Physical address = (CS × 16) + IP\n",
    "                        = (0xF000 × 0x10) + 0xFFF0\n",
    "                        = 0xF0000 + 0xFFF0\n",
    "                        = 0xFFFF0  ✅\n"
   ]
  },
  {
   "cell_type": "markdown",
   "id": "c93acd2c",
   "metadata": {},
   "source": []
  },
  {
   "cell_type": "markdown",
   "id": "8d233601",
   "metadata": {},
   "source": []
  },
  {
   "cell_type": "markdown",
   "id": "ed1f00e6",
   "metadata": {},
   "source": []
  }
 ],
 "metadata": {
  "kernelspec": {
   "display_name": ".venv",
   "language": "python",
   "name": "python3"
  },
  "language_info": {
   "codemirror_mode": {
    "name": "ipython",
    "version": 3
   },
   "file_extension": ".py",
   "mimetype": "text/x-python",
   "name": "python",
   "nbconvert_exporter": "python",
   "pygments_lexer": "ipython3",
   "version": "3.13.3"
  }
 },
 "nbformat": 4,
 "nbformat_minor": 5
}
