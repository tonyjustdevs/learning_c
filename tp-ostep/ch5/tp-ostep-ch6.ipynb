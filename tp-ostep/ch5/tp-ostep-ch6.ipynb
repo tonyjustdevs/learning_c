{
 "cells": [
  {
   "cell_type": "markdown",
   "metadata": {},
   "source": [
    "# OSTEP CH6: Process API\n",
    "Summary\n",
    "- **Limited Direct Execution** is set of key **low-level mechanisms** to ***implement CPU Virtualisation***:\n",
    "    - Run program on CPU via hardware setup\n",
    "    - Limit process authority without OS assistance\n",
    "        - E.g. baby-proofing a room\n",
    "\n",
    "OS \"baby proofs\" CPU by:\n",
    "- 1. during booting, set up `trap handlers`\n",
    "- 2. start `interrupt timer` \n",
    "- 3. **only** run processes `restricted mode` \n"
   ]
  },
  {
   "cell_type": "markdown",
   "metadata": {
    "vscode": {
     "languageId": "plaintext"
    }
   },
   "source": [
    "# Appendix Key Terms\n",
    "\n",
    "- 1. Execution Modes\n",
    "    -  `user mode`\n",
    "    -  `kernel mode` (priviledge, non-restricted)\n",
    "- 2. Typical user applications (`user mode`) need to \n",
    "    - use a `system call` to\n",
    "    - `trap` into kernel\n",
    "    - to `request` operating system services\n",
    "- 3. `trap instruction`\n",
    "    - saves `register state`\n",
    "    - changes hardware status to `kernel mode`\n",
    "    - jumps into OS to pre-specified destintation: `trap table`\n",
    "- 3. `trap instruction`"
   ]
  },
  {
   "cell_type": "markdown",
   "metadata": {},
   "source": [
    "\n"
   ]
  }
 ],
 "metadata": {
  "kernelspec": {
   "display_name": ".venv",
   "language": "python",
   "name": "python3"
  },
  "language_info": {
   "codemirror_mode": {
    "name": "ipython",
    "version": 3
   },
   "file_extension": ".py",
   "mimetype": "text/x-python",
   "name": "python",
   "nbconvert_exporter": "python",
   "pygments_lexer": "ipython3",
   "version": "3.13.3"
  }
 },
 "nbformat": 4,
 "nbformat_minor": 2
}
