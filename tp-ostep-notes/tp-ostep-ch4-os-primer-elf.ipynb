{
 "cells": [
  {
   "cell_type": "markdown",
   "metadata": {},
   "source": [
    "# OS Primer\n",
    "## 1. Programs\n",
    "Where Do Programs Live?\n",
    "- Programs initially live on **disk**\n",
    "- Programs initially are in **executable format**"
   ]
  },
  {
   "cell_type": "markdown",
   "metadata": {},
   "source": [
    "# 2. ELF File Structure\n"
   ]
  },
  {
   "cell_type": "raw",
   "metadata": {
    "vscode": {
     "languageId": "raw"
    }
   },
   "source": [
    "+--------------------+\n",
    "| ELF Header         | ← [1] Overall file info\n",
    "+--------------------+\n",
    "| Program Header(s)  | ← [2] How to load the program\n",
    "+--------------------+\n",
    "| Section Header(s)  | ← [3] Info for linker/debugger\n",
    "+--------------------+\n",
    "| .text section      | ← [4] Actual machine code\n",
    "+--------------------+\n",
    "| .data section      | ← [5] Initialized global data\n",
    "+--------------------+\n",
    "| .bss section       | ← [6] Uninitialized global data\n",
    "+--------------------+\n",
    "| Other sections     | ← [7] Symbol tables, etc.\n",
    "+--------------------+"
   ]
  },
  {
   "cell_type": "markdown",
   "metadata": {},
   "source": [
    "# 2.1 ELF Header\n",
    "\n",
    "| Field       | Description                                    |\n",
    "| ----------- | ---------------------------------------------- |\n",
    "| `e_ident`   | Magic bytes (`0x7f 45 4c 46`) = \"ELF\"          |\n",
    "| `e_type`    | File type (e.g., executable, shared lib)       |\n",
    "| `e_machine` | Target architecture (e.g., x86\\_64)            |\n",
    "| `e_entry`   | Address of entry point (where `main()` begins) |\n",
    "| `e_phoff`   | Offset of the program header table             |\n",
    "| `e_shoff`   | Offset of the section header table             |\n"
   ]
  },
  {
   "cell_type": "markdown",
   "metadata": {},
   "source": [
    "# 2.2 Program Header(s)\n",
    "Program Headers (Runtime Loader’s Guide)\n",
    "\n",
    "While section headers are for linkers and debuggers, program headers are what the OS uses at runtime to load the program into memory.\n",
    "\n",
    "Each program header describes:\n",
    "\n",
    "    A segment of the file to load\n",
    "\n",
    "    Where to load it into memory\n",
    "\n",
    "    What permissions it should have (read, write, execute)\n",
    "\n",
    "    \n",
    "| Field      | Description                              |\n",
    "| ---------- | ---------------------------------------- |\n",
    "| `p_type`   | Type of segment (e.g. `LOAD`, `DYNAMIC`) |\n",
    "| `p_offset` | Where in the file the segment starts     |\n",
    "| `p_vaddr`  | Virtual memory address to load it at     |\n",
    "| `p_filesz` | Size of the segment in the file          |\n",
    "| `p_memsz`  | Size of the segment in memory            |\n",
    "| `p_flags`  | Permissions (read, write, exec)          |\n"
   ]
  },
  {
   "cell_type": "markdown",
   "metadata": {},
   "source": [
    "# 2.3 Section Header(s)\n",
    "\n",
    " Section Headers (For Linkers and Debuggers)\n",
    "\n",
    "The section headers describe all the named sections of the file like:\n",
    "\n",
    "    .text (code)\n",
    "\n",
    "    .data (initialized variables)\n",
    "\n",
    "    .bss (uninitialized variables)\n",
    "\n",
    "    .symtab, .strtab (symbol and string tables for debugging)\n",
    "\n",
    "Each section header contains:\n",
    "\n",
    "\n",
    "| Field       | Description                                 |\n",
    "| ----------- | ------------------------------------------- |\n",
    "| `sh_name`   | Name of the section (like `.text`)          |\n",
    "| `sh_type`   | Type (code, data, string table, etc)        |\n",
    "| `sh_offset` | Where in the file this section starts       |\n",
    "| `sh_addr`   | Address to load into memory (if applicable) |\n",
    "| `sh_size`   | Size of this section                        |\n"
   ]
  },
  {
   "cell_type": "raw",
   "metadata": {
    "vscode": {
     "languageId": "raw"
    }
   },
   "source": [
    "readelf -h hello     # ELF header\n",
    "readelf -l hello     # Program headers\n",
    "readelf -S hello     # Section headers\n",
    "\n",
    "0x400000"
   ]
  },
  {
   "cell_type": "markdown",
   "metadata": {},
   "source": [
    "\n",
    "# 2.4 .text Section\n",
    "# 2.5 .data Section\n",
    "# 2.6 .bss  Section\n",
    "# 2.7 Other Sections`\n"
   ]
  },
  {
   "cell_type": "markdown",
   "metadata": {},
   "source": []
  },
  {
   "cell_type": "markdown",
   "metadata": {},
   "source": []
  },
  {
   "cell_type": "markdown",
   "metadata": {},
   "source": []
  },
  {
   "cell_type": "markdown",
   "metadata": {},
   "source": [
    "It refers to how the OS prepares everything a program needs to run:\n",
    "- Loads your binary into memory\n",
    "- Allocates stack, heap, and memory pages\n",
    "- Sets up environment variables and arguments\n",
    "- Prepares kernel data structures for your process\n",
    "- Switches control to the program’s entry point (e.g. main())"
   ]
  },
  {
   "cell_type": "markdown",
   "metadata": {},
   "source": []
  },
  {
   "cell_type": "markdown",
   "metadata": {},
   "source": []
  },
  {
   "cell_type": "markdown",
   "metadata": {},
   "source": []
  },
  {
   "cell_type": "markdown",
   "metadata": {},
   "source": []
  },
  {
   "cell_type": "markdown",
   "metadata": {},
   "source": []
  },
  {
   "cell_type": "markdown",
   "metadata": {},
   "source": []
  },
  {
   "cell_type": "markdown",
   "metadata": {},
   "source": []
  },
  {
   "cell_type": "markdown",
   "metadata": {},
   "source": [
    "# 2. Executable Format\n",
    "What is executable format?\n",
    "- A specific way of organizing \n",
    "    - **machine instructions (code)**: actual instructions\n",
    "    - **static data**: initialised values\n",
    "    - **metadata** tells OS:\n",
    "        - **Where** in memory to load different parts of program\n",
    "        - **Dependencies** of libraries\n",
    "        - **Entry point** where execution should start.\n"
   ]
  },
  {
   "cell_type": "code",
   "execution_count": null,
   "metadata": {},
   "outputs": [],
   "source": []
  },
  {
   "cell_type": "markdown",
   "metadata": {},
   "source": [
    "| Component                | Description                             | Where it lives             | Purpose                         |\n",
    "| ------------------------ | --------------------------------------- | -------------------------- | ------------------------------- |\n",
    "| **Machine instructions** | Binary CPU instructions                 | Inside `.text` section     | Core of the program – what runs |\n",
    "| **Metadata**             | Info like entry point, symbols          | ELF header, section tables | Used by OS and debuggers        |\n",
    "| **Memory layout**        | Arrangement of code/data/stack          | Defined in program headers | Helps OS load into memory       |\n",
    "| **Sections**             | Logical divisions like `.text`, `.data` | File sections (ELF)        | Organize code and data          |\n",
    "\n"
   ]
  },
  {
   "cell_type": "code",
   "execution_count": null,
   "metadata": {},
   "outputs": [],
   "source": [
    "aaaa"
   ]
  }
 ],
 "metadata": {
  "kernelspec": {
   "display_name": ".venv",
   "language": "python",
   "name": "python3"
  },
  "language_info": {
   "codemirror_mode": {
    "name": "ipython",
    "version": 3
   },
   "file_extension": ".py",
   "mimetype": "text/x-python",
   "name": "python",
   "nbconvert_exporter": "python",
   "pygments_lexer": "ipython3",
   "version": "3.13.3"
  }
 },
 "nbformat": 4,
 "nbformat_minor": 2
}
