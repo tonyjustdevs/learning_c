{
 "cells": [
  {
   "cell_type": "markdown",
   "metadata": {
    "vscode": {
     "languageId": "plaintext"
    }
   },
   "source": [
    "# Scheduling\n",
    "\n",
    "- low-level mechanism\n",
    "    - context switching\n",
    "- scheduling policies\n",
    "    - disciplines\n",
    "- crux: framework for developing scheduling policies\n",
    "    - key assumptions\n",
    "    - metrics \n",
    "    - basic approaches of early systems\n"
   ]
  },
  {
   "cell_type": "markdown",
   "metadata": {},
   "source": [
    "Outline\n",
    "- Workload Assumptions\n",
    "    - workoad\n",
    "    - fully-operational scheduling discipline\n",
    "    - jobs\n",
    "- Scheduling Metrics\n",
    "    - turnaround time\n",
    "    - performance metric\n",
    "    - fairness\n",
    "    - Jain's Fariness Index\n",
    "- FIFO (FCFS)\n",
    "    - average turnaround time\n",
    "    - convoy effect\n",
    "- Shortest Job First (SFJ)\n",
    "    - aside: preemptive scheduler\n",
    "    - non-preemptive\n",
    "    - preemptive\n",
    "- Shortest Time-To-Complete First (STCF)\n",
    "    - Preemptive Shortest Job First (PSJF)\n",
    "    - preempty job\n",
    "    non-preemptive scheduler\n",
    "- New Metric: Response Time\n",
    "- Round Robin scheduling\n",
    "    - time slice\n",
    "    - scheduling quantum\n",
    "    - time-slicing\n",
    "    - amortize cost of switching\n",
    "    - CPU caches\n",
    "    - TLBS\n",
    "    - branch predictors\n",
    "    - trade-off (response time, turnaround time)\n",
    "    - tip: overland enables higher utilisation\n",
    "    - assumption 5\n",
    "- Incorporating i/o\n",
    "    - blocked\n",
    "    - assupmtion 4\n",
    "- No more oracle\n",
    "- Summary\n"
   ]
  },
  {
   "cell_type": "code",
   "execution_count": null,
   "metadata": {
    "vscode": {
     "languageId": "plaintext"
    }
   },
   "outputs": [],
   "source": []
  }
 ],
 "metadata": {
  "kernelspec": {
   "display_name": ".venv",
   "language": "python",
   "name": "python3"
  },
  "language_info": {
   "codemirror_mode": {
    "name": "ipython",
    "version": 3
   },
   "file_extension": ".py",
   "mimetype": "text/x-python",
   "name": "python",
   "nbconvert_exporter": "python",
   "pygments_lexer": "ipython3",
   "version": "3.13.3"
  }
 },
 "nbformat": 4,
 "nbformat_minor": 2
}
