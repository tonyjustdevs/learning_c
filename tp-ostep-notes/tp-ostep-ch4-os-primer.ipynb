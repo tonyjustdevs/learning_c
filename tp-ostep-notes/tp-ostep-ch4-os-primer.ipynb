{
 "cells": [
  {
   "cell_type": "markdown",
   "metadata": {},
   "source": [
    "# OS Primer\n",
    "## 1. Programs\n",
    "Where Do Programs Live?\n",
    "- Programs initially live on **disk**\n",
    "- Programs initially are in **executable format**"
   ]
  },
  {
   "cell_type": "markdown",
   "metadata": {},
   "source": [
    "# 2. Executable Format\n",
    "What is executable format?\n",
    "- A specific way of organizing \n",
    "    - **machine instructions (code)**: actual instructions\n",
    "    - **static data**: initialised values\n",
    "    - **metadata** tells OS:\n",
    "        - **Where** in memory to load different parts of program\n",
    "        - **Dependencies** of libraries\n",
    "        - **Entry point** where execution should start.\n",
    "- Inside a file so OS knows \n",
    "    - how to load and \n",
    "    - run it properly.\n",
    "\n"
   ]
  },
  {
   "cell_type": "markdown",
   "metadata": {},
   "source": [
    "## 3. Assembly Code & Machine Code & C Code\n",
    "What is `Assembly` Code?\n",
    "- Human-readable instructions for the CPU\n",
    "- Humans can (but shouldn't) write this code\n",
    "- A language-like view of machine code\n",
    "- A thin abstraction over raw binary\n",
    "- A one-to-one mapping between readable instructions and the actual opcodes a CPU executes"
   ]
  },
  {
   "cell_type": "markdown",
   "metadata": {},
   "source": [
    "What is `Machine` Code?\n",
    "- Binary version of Machine code the CPU actually runs\n",
    "    - No extra structure\n",
    "    - No meta data\n",
    "- Humans can't write this code.\n",
    "\n",
    "What is `C` Code?\n",
    "- **Architecture-neutral**: \n",
    "    - C doesn't care if you're on x86, ARM, RISC-V, etc.\n",
    "- Abstracted: \n",
    "    - Not specifying how to move data into registers or which ones to use.\n",
    "- Human-friendly: \n",
    "    - Using variables and operators, not low-level hardware details."
   ]
  },
  {
   "cell_type": "markdown",
   "metadata": {},
   "source": [
    "## 3.1 Assembly Code Examples\n",
    "        mov eax, 5\n",
    "        add eax, 3\n",
    "        ret\n",
    "\n",
    "`mov eax, 5` means:\n",
    "- **[Move]** (`mov` operation/opcode) *number* `5` (32-bit immediate value)\n",
    "- **[Into]** *destination register* `eax`\n",
    "\n",
    "On x86 (32-bit), `mov eax, imm32` always has this format:\n",
    "| Byte(s)       | Meaning                        |\n",
    "| ------------- | ------------------------------ |\n",
    "| `B8`          | Opcode for `mov eax, imm32`    |\n",
    "| `05 00 00 00` | Little-endian 32-bit value (5) |"
   ]
  },
  {
   "cell_type": "markdown",
   "metadata": {},
   "source": [
    "## 3.2 CPU Registers\n",
    "What is `eax`?\n",
    "- A small, \n",
    "- **super-fast**,\n",
    "- **piece of storage**\n",
    "- **inside CPU** itself,\n",
    "- apart of **family** of registers in `x86` architecture\n",
    "\n",
    "What's a **register**?\n",
    "- CPU's personal whiteboard that is tiny, extremely-fast, memory, faster than RAM, built inside the CPU:\n",
    "    - store temp numbers (e.g. variables)\n",
    "    - results of calculations\n",
    "    - pass values between instructions\n",
    "    - work with memory addresses"
   ]
  },
  {
   "cell_type": "markdown",
   "metadata": {},
   "source": [
    "## 3.3 History of Registers\n",
    "What does n-bit CPUs mean?\n",
    "- 8-bit CPUs (Intel 8080, late 1970s):\n",
    "    - Registers were 8 bits, values 0 to 255.\n",
    "- 16-bit CPUs (Intel 8086, ~1970s):\n",
    "    - Registers were 16 bits = 2 bytes\n",
    "    - $2^{16}$-1= 0 to 65,535\n",
    "    - `ax`(Accumulator), `bx` (Base), `cx` (Count), `dx` (Data)\n",
    "- 32-bit CPUs (Intel 80386, ~1985):\n",
    "    - Progarms grew needing, working with more data, accessing more memory.\n",
    "    - Extended old 16-bit registers to 32-bit (4 bytes)\n",
    "    - `eax` , `ebx`, `ecx`, `edx`\n",
    "- 64-bit CPUs (x86-64, ~2003+):\n",
    "    - Extended again to 64-bit (8 bytes)\n",
    "    - `rax`, `rbx`, etc...\n",
    "    - 8 quintillion+\n",
    "    - $2^{64}-1$"
   ]
  },
  {
   "cell_type": "markdown",
   "metadata": {},
   "source": [
    "## 3.2 Machine Code Examples\n",
    "Assembly Code Assembled into Bytes:\n",
    "\n",
    "    B8 05 00 00 00 83 C0 03 C3"
   ]
  },
  {
   "cell_type": "markdown",
   "metadata": {},
   "source": [
    "## 3. OS & Executables\n",
    "How does the OS know a File is Executable?\n",
    "- File Signatures\n",
    "    - Unique Identifier (e.g. `ELF's 0x7F 'E' 'L' 'F'`)\n",
    "    - Acts as Digital Signature\n",
    "    - At beginning of file\n",
    "- Format-Specific Markets\n",
    "    - Linux: `ELF` (Modern Unix-like systems)\n",
    "    - Windows: `PE` (Portable Executable format)\n",
    "    - macOS: `Mach-O`  (Apple specific)\n",
    "    - Classic Mac: `Mach-O`, `PE` (Supports both formats)\n"
   ]
  },
  {
   "cell_type": "markdown",
   "metadata": {},
   "source": [
    "# 4. Hex\n",
    "Base-16 number system, representing binary numbers compactly.\n",
    "\n",
    "Hex Digits (0 to F -> 0 to 15)\n",
    "- 0-9 -> 0-9\n",
    "- A-F -> 10-15\n",
    "\n",
    "1 Hex digit = 4 binary bits\n",
    "- Each single bit from 0-15\n",
    "- 4 bits -> [8][4][2][1] -> 8+4+2+1 = 0-15\n",
    "- E.g. `0x05` -> Binary 00000101 \n",
    "\n",
    "|Hex           |Binary                                                  |\n",
    "|--------------|--------------------------------------------------------|\n",
    "|Hex 0x05      | = Binary 00000101                                      |\n",
    "|Hex 0x0005    | = Binary 00000000 00000101 (16-bit)                    |\n",
    "|Hex 0x00000005| = Binary 00000000 00000000 00000000 00000101 (32-bit)  |\n"
   ]
  },
  {
   "cell_type": "code",
   "execution_count": null,
   "metadata": {},
   "outputs": [],
   "source": [
    "Exercise\n",
    "1. Describe 12-06-1986 in Hex\n",
    "12B13D14E15F\n",
    "0x0B-0x06-0x"
   ]
  },
  {
   "cell_type": "code",
   "execution_count": 3,
   "metadata": {},
   "outputs": [
    {
     "name": "stdout",
     "output_type": "stream",
     "text": [
      "0: 1\n",
      "1: 2\n",
      "2: 4\n",
      "3: 8\n",
      "4: 16\n",
      "5: 32\n",
      "6: 64\n",
      "7: 128\n",
      "8: 256\n",
      "9: 512\n",
      "10: 1024\n",
      "11: 2048\n",
      "12: 4096\n",
      "13: 8192\n",
      "14: 16384\n",
      "15: 32768\n",
      "16: 65536\n"
     ]
    }
   ],
   "source": [
    "for i in range(0,17):\n",
    "    print(f\"{i}: {2**i}\")"
   ]
  },
  {
   "cell_type": "code",
   "execution_count": null,
   "metadata": {},
   "outputs": [
    {
     "data": {
      "text/plain": [
       "0"
      ]
     },
     "execution_count": 9,
     "metadata": {},
     "output_type": "execute_result"
    }
   ],
   "source": [
    "# 1986-1024-512-256-128-64-2\n"
   ]
  },
  {
   "cell_type": "code",
   "execution_count": 12,
   "metadata": {},
   "outputs": [
    {
     "name": "stdout",
     "output_type": "stream",
     "text": [
      "7C2\n",
      "0000011111000010 1986\n"
     ]
    }
   ],
   "source": [
    "# 0000 0111 1100 0010\n",
    "binary_value = \"0000011111000010\"\n",
    "value = int(binary_value, 2)\n",
    "hex_value = hex(int(binary_value, 2))[2:].upper()\n",
    "print(hex_value) \n",
    "\n",
    "\n",
    "binary_value = bin(int(\"7C2\", 16))[2:].zfill(16)\n",
    "print(binary_value, value )  # Output: '0001101000111111'"
   ]
  },
  {
   "cell_type": "markdown",
   "metadata": {},
   "source": [
    "# 5. Architecture of a CPU\n",
    "or ISA (Instruction Set Architecutre)\n",
    "\n",
    "| Aspect                  | Description                                                   |\n",
    "| ----------------------- | ------------------------------------------------------------- |\n",
    "| **Instruction Set**     | What instructions (e.g., `mov`, `add`) the CPU can understand |\n",
    "| **Register Set**        | What registers exist (e.g., `eax` vs `x0`)                    |\n",
    "| **Encoding Rules**      | How instructions are turned into 1s and 0s (machine code)     |\n",
    "| **Memory Addressing**   | How the CPU reads/writes memory                               |\n",
    "| **Calling Conventions** | How functions call and return, pass arguments, etc.           |\n",
    "| **System Calls / ABI**  | How code interacts with the OS or hardware                    |\n",
    "\n"
   ]
  },
  {
   "cell_type": "markdown",
   "metadata": {},
   "source": [
    "# 6. CPU Execution\n",
    "\n",
    "CPU executes an instruction, it follows this classic cycle:\n",
    "\n",
    "    Fetch → Decode → Execute → (Memory) → Writeback\n",
    "\n",
    "    RAM -> instruction -> CPU's interal registers -> execution"
   ]
  },
  {
   "cell_type": "markdown",
   "metadata": {},
   "source": []
  },
  {
   "cell_type": "markdown",
   "metadata": {},
   "source": []
  },
  {
   "cell_type": "markdown",
   "metadata": {},
   "source": []
  },
  {
   "cell_type": "markdown",
   "metadata": {},
   "source": []
  },
  {
   "cell_type": "markdown",
   "metadata": {},
   "source": []
  },
  {
   "cell_type": "markdown",
   "metadata": {},
   "source": []
  },
  {
   "cell_type": "markdown",
   "metadata": {},
   "source": []
  }
 ],
 "metadata": {
  "kernelspec": {
   "display_name": ".venv",
   "language": "python",
   "name": "python3"
  },
  "language_info": {
   "codemirror_mode": {
    "name": "ipython",
    "version": 3
   },
   "file_extension": ".py",
   "mimetype": "text/x-python",
   "name": "python",
   "nbconvert_exporter": "python",
   "pygments_lexer": "ipython3",
   "version": "3.13.3"
  }
 },
 "nbformat": 4,
 "nbformat_minor": 2
}
