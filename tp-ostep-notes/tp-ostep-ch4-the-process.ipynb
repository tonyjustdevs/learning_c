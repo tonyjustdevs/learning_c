{
 "cells": [
  {
   "cell_type": "markdown",
   "metadata": {},
   "source": [
    "# The Abstraction: The Process"
   ]
  },
  {
   "cell_type": "markdown",
   "metadata": {},
   "source": [
    "# 1. Processes & Programs\n",
    "OS provides many abstractions for users ( one being):\n",
    "- the **process**\n",
    "\n",
    "What is a process?\n",
    "- A process is a ***running*** **program**.\n",
    "\n",
    "What is a program? A program itself:\n",
    "- some instructions\n",
    "- some static data (maybe)\n",
    "- waits to spring into action (via OS)\n",
    "    - OS turns bytes -> something useful\n",
    "\n"
   ]
  },
  {
   "cell_type": "markdown",
   "metadata": {},
   "source": [
    "# 2. Running Multiple Processes\n",
    "\n",
    "## 2.1 Users\n",
    "What do users want? Typically they want to \n",
    "- run > 1 **program** at once or\n",
    "- run > 1 **process** at once\n",
    "\n",
    "## 2.2 Typical System\n",
    "Describe a typical system in terms of processes?  \n",
    "- 10k, 100k+ > processes at the same time"
   ]
  },
  {
   "cell_type": "markdown",
   "metadata": {},
   "source": [
    "## 2.3 CPU\n",
    "How does OS create the illusion of an endless of CPU's to run many processes at once?  \n",
    "- **Virtualisation**\n",
    "\n",
    "## 2.4 Virtualisation\n",
    "What is virtualisation?  \n",
    "- OS runs one process, then stopping, then running another, etc\n",
    "- OS creates illusion of many virtual CPUs\n",
    "- Also knowns as **time sharing**\n",
    "- Allows users to run many **concurrent processes**"
   ]
  },
  {
   "cell_type": "markdown",
   "metadata": {},
   "source": [
    "## 2.5 Time sharing\n",
    "What is Time sharing?\n",
    "- OS technique to share a resource\n",
    "- Allow a resource use (or shared) a little by one entity, then another etc.\n",
    "    - resource examples: CPU, network link"
   ]
  },
  {
   "cell_type": "markdown",
   "metadata": {},
   "source": [
    "## 2.6 Virtualisation Implementation\n",
    "How is virtualisation implemented? This is done via both:\n",
    "- Low-level machinary mechanisms\n",
    "- High-level machinery intelligence\n"
   ]
  },
  {
   "cell_type": "markdown",
   "metadata": {},
   "source": [
    "## 2.6.1 Low-level Machinary Mechanism\n",
    "What?\n",
    "- Low-level methods or protocols implement a needed piece of **functionality**, e.g. **context switch** (a ts-mech)\n",
    "- Describes ***how*** OS performs the functionality\n",
    "\n",
    "## 2.6.2. High-level Machinery Intelligence\n",
    "What?\n",
    "- The **policies**, or algorithms, for some decision making within the OS, e.g. scheduling policy\n",
    "- Describes ***which*** process to run right now.\n",
    "\n",
    "## 2.6.3 Scheduling Policy\n",
    "What?\n",
    "- OS decision to run a program given a number of them, based on some metrics:\n",
    "    - historical information\n",
    "    - workoad knowledge\n",
    "    - performance metrics\n"
   ]
  },
  {
   "cell_type": "markdown",
   "metadata": {},
   "source": [
    "# 3 The Abstraction: A Process\n",
    "The ***abstractin*** provided by OS:\n",
    "- of a **running program**\n",
    "- is a **process**\n",
    "- i.e. a process is a **running instance** of a program\n",
    "    - When an app is run,  OS turns it into a process, giving it resoureces lik memory and CPU time, etc.\n",
    "\n",
    "## 3.2 Process Summary\n",
    "How to summarise a process?\n",
    "- Which different pieces of the OS does process **affect** or **acccess** during its execution\n"
   ]
  },
  {
   "cell_type": "markdown",
   "metadata": {},
   "source": [
    "## 3.3 Machine State\n",
    "What is machine state?\n",
    "- Any any time, what parts of machine are important to program execution?\n",
    "- When running, what can program **read** or **update**?\n",
    "- When running, everything a computer knows about a process\n",
    "    - Memory\n",
    "        - The code (instructions to execute)\n",
    "        - Variables and data the program is using\n",
    "        - The stack (for function calls, etc.)\n",
    "        - The heap (for dynamically allocated data)\n",
    "    - Registers (used by the CPU)\n",
    "        - Program Counter (which instruction to run next)\n",
    "        - Stack Pointer\n",
    "        - Frame Pointer: manage stack for function parameters, local varaibles, return addresses\n",
    "    - Open Files: I/O informtion list of files process currently has open"
   ]
  },
  {
   "cell_type": "markdown",
   "metadata": {},
   "source": [
    "# 4. OS Primer\n",
    "## 4.1 Programs\n",
    "Where Do Programs Live?\n",
    "- Programs initially on **disk**\n",
    "- Programs initially in **executable format**"
   ]
  },
  {
   "cell_type": "markdown",
   "metadata": {},
   "source": [
    "### 4.1.2 Program to Processes\n",
    "How OS does to transform Programs into Processes?\n",
    "- Read **bytes** (file/rogram) from disk\n",
    "- Identify the **structure** of the program\n",
    "- **Allocate memory** in RAM\n",
    "- Copy into memory / address space (private section of memory)\n",
    "    - programs code\n",
    "    - static/global variables\n",
    "    - the stack (for function calls)\n",
    "    - the heap (for dynamic memory)\n",
    "- Set up CPU to start running program\n",
    "ory**"
   ]
  },
  {
   "cell_type": "markdown",
   "metadata": {},
   "source": [
    "## 4.2 Process Creation\n",
    "- [A] Programs sit on disk, in executable format.\n",
    "- [B] Before Running Program/Process, OS has work to do!:\n",
    "    \n",
    "1. ***OS Load Code & Static Data*** via:\n",
    "    - OS read bytes from disk\n",
    "        - place in memory somwhere\n",
    "    - Two **Loading** methods:\n",
    "        - **eagerly** or \n",
    "        - **lazily**: involves **paging** & **swapping** (from virtualisation of memory)\n",
    "\n",
    "2. [Memory 1] OS Allocate to ***Stack***, used for and ***Gives to Process***:\n",
    "    - ie **initialise run-time stack** with arguments\n",
    "        - fill parameters for `main()`\n",
    "        - `argc` & `argv` array \n",
    "    - local variables\n",
    "    - function parameters\n",
    "    - return addresses\n",
    "\n",
    "3.  [Memory 2] OS Allocate for Programs ***Heap***:\n",
    "    - In C, explicitly requested **dynamically-allocated data**, via `malloc()` & `free()`\n",
    "    - Heap Data: for linked lists, hash tables, trees, etc\n",
    "    - As Program runs:\n",
    "        - Program requests more memory via `malloc()`\n",
    "        - OS may allocate more memory to process too.\n",
    "\n",
    "4. [Initialisation Tasks] I/O\n",
    "    - Each (Unix) process by default, has 3 open ***file descriptors***:\n",
    "        - *Standard Input*: read input from terminal\n",
    "        - *Standard Output*: prrint output to screen\n",
    "        - *Standard Error*: (more in persistence chp)\n",
    "\n",
    "5. [Ready for Execution] Start Entry Point:\n",
    "    - `main()` routine: Jumped here via ***special mechanism***\n",
    "\n",
    "6. [CPU] OS transfers **Control** to ***CPU***\n",
    "    - Program beings to execute"
   ]
  },
  {
   "cell_type": "markdown",
   "metadata": {},
   "source": [
    "How do program become processes\n",
    "\n",
    "To run a program:\n",
    "[Step 1] Code/Data to RAM\n",
    "- What? the code & static data must be *loaded* into ram\n",
    "- How? \n",
    "    - OS reads the bytes of the file, that is in an executable file.\n",
    "    - two methods: lazily (paging/swapping) or eagerly\n",
    "- Outcome:\n",
    "    - code & static data is in RAM\n",
    "\n",
    "[Step 2] Memory Allocation: `Stack`\n",
    "- What? Provide Memory allocation to stack stuff: Local variables, function parameters `argc` & `argv` , return addresses \n",
    "- How? OS allocates memory and **gives to process**\n",
    "\n",
    "[Step 3] Memory Allocation: `Heap`\n",
    "- What? Programs run and request data. Dynamic Data Structures such as Linked Lists, Hash Tables, Trees via `malloc()` & `free()`\n",
    "- How? OS may provide memory to process \n",
    "\n",
    "[Step 4] I/O Initialisations\n",
    "Each UNIX Process defaults with `file descriptors`\n",
    "- standard input\n",
    "- standard ouput\n",
    "- standard error\n",
    "\n",
    "[Step 5] Entry Point\n",
    "- Jump to `main()`"
   ]
  },
  {
   "cell_type": "markdown",
   "metadata": {},
   "source": []
  },
  {
   "cell_type": "markdown",
   "metadata": {},
   "source": []
  },
  {
   "cell_type": "markdown",
   "metadata": {},
   "source": []
  },
  {
   "cell_type": "markdown",
   "metadata": {},
   "source": []
  },
  {
   "cell_type": "markdown",
   "metadata": {},
   "source": []
  },
  {
   "cell_type": "markdown",
   "metadata": {},
   "source": [
    "# 5. Process **API**\n",
    "What are the typical interfaces of a modern operationg system?\n",
    "- **Create**: to create new processes (e.g. cmd in shell, dbl click)\n",
    "- **Destroy**: self-explanatory\n",
    "- **Wait**: Often useful to wait ffor a process to stop running\n",
    "- **Misc Control**: Stop from running, and then resuming running\n",
    "- **Status**: e.g. how long run, what state"
   ]
  },
  {
   "cell_type": "markdown",
   "metadata": {},
   "source": []
  },
  {
   "cell_type": "markdown",
   "metadata": {},
   "source": []
  },
  {
   "cell_type": "markdown",
   "metadata": {},
   "source": []
  },
  {
   "cell_type": "markdown",
   "metadata": {},
   "source": []
  },
  {
   "cell_type": "markdown",
   "metadata": {},
   "source": []
  }
 ],
 "metadata": {
  "kernelspec": {
   "display_name": ".venv",
   "language": "python",
   "name": "python3"
  },
  "language_info": {
   "name": "python",
   "version": "3.13.3"
  }
 },
 "nbformat": 4,
 "nbformat_minor": 2
}
