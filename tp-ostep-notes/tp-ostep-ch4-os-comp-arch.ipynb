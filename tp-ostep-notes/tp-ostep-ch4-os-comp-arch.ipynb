{
 "cells": [
  {
   "cell_type": "markdown",
   "metadata": {},
   "source": [
    "# Computer Architecture Primer\n",
    "1. CPU\n",
    "2. Memory\n",
    "3. Bus\n",
    "4. I/O & Peripherals\n",
    "5. System & Platform Architecture\n",
    "6. Firmware & Boot Architecture\n",
    "\n",
    "# CA Summary\n",
    "| Component            | Described By / Standard      |\n",
    "| -------------------- | ---------------------------- |\n",
    "| CPU (ISA)            | x86, ARM, RISC-V ISA         |\n",
    "| Memory system        | Paging, caches, JEDEC        |\n",
    "| Bus communication    | PCIe, USB, AMBA, etc.        |\n",
    "| I/O                  | SATA, USB, NVMe, etc.        |\n",
    "| Boot & firmware      | BIOS, UEFI, OpenSBI          |\n",
    "| Full platform layout | ACPI, Device Tree, SoC specs |\n"
   ]
  },
  {
   "cell_type": "markdown",
   "metadata": {},
   "source": [
    "# 1. CPU Architecture: `Instruction Set Architecture (ISA)` defines:\n",
    "\n",
    "|CPU Description | Examples|\n",
    "|- | - |\n",
    "|Instruction formats & opcodes  |MOV, ADD|\n",
    "|Registers                      |number, names, size|\n",
    "|Addressing modes               |immediate, direct, indirect, etc.|\n",
    "|Exception handling             |traps, interrupt|\n",
    "|Calling conventions            |sometimes specified separately|\n",
    "|Versions                       |`sx86` (intel), `RISC-V` (open-source)|\n"
   ]
  },
  {
   "cell_type": "markdown",
   "metadata": {},
   "source": [
    "# 2. Memory Architecture\n",
    "How memory is structured & accessed.\n",
    "\n",
    "## 2.1 Memory Description\n",
    "|Memory Description | Examples|\n",
    "|- | - |\n",
    "|Memory hierarchy design    | cache → RAM → disk|\n",
    "|Virtual memory system      | paging, segmentation|\n",
    "|Address space model        | flat vs segmented|\n",
    "|Cache coherence protocols  | MESI, MOESI|\n"
   ]
  },
  {
   "cell_type": "markdown",
   "metadata": {},
   "source": [
    "## 2.2 Memory Standardisation\n",
    "|Memory Standardization | Defined by|\n",
    "|- | - |\n",
    "|CPU manufacturers          |Intel manuals, ARM Architecture Reference Manual|\n",
    "|Operating systems          |how virtual memory and protection are implemented|\n",
    "|Sometimes IEEE or JEDEC    |for RAM specs like DDR4/DDR5|\n"
   ]
  },
  {
   "cell_type": "markdown",
   "metadata": {},
   "source": [
    "# 3. Bus Architecture\n",
    "## 3.1 Bus Description\n",
    "Describes how components communicate (CPU ↔ RAM ↔ I/O devices)\n",
    "- Bus protocols: \n",
    "    - rules for data exchange, \n",
    "    - timing, \n",
    "    - arbitration\n",
    "- Bus widths & speeds\n",
    "\n",
    "## 3.2 Bus Types\n",
    "Bus Types| Types|\n",
    "|-|-|\n",
    "|System bus| CPU ↔ RAM|\n",
    "|Peripheral bus| USB, PCIe|\n",
    "|Internal buses| between cores or chips|\n",
    "\n",
    "## 3.3 Bus Standardisation\n",
    "|Bus Standardization |bodies|\n",
    "|-|-|\n",
    "|for PCIe                    |PCI-SIG |\n",
    "|for USB                     |USB-IF  |\n",
    "|for DRAM bus standards      |JEDEC   |\n",
    "|for ARM bus interconnects   |AMBA    |"
   ]
  },
  {
   "cell_type": "markdown",
   "metadata": {},
   "source": [
    "# 4. I/O and Peripheral Architecture\n",
    "\n",
    "## 4.1 I/O & Peripheral Descriptions\n",
    "- I/O port-mapped vs memory-mapped I/O\n",
    "- Interrupt-driven vs polling\n",
    "- Device-specific communication protocols\n",
    "\n",
    "## 4.2 I/O & Peripheral Standardizations\n",
    "- USB, SATA, NVMe, etc. are all formal standards\n",
    "- OSs provide drivers that abstract the hardware interface"
   ]
  },
  {
   "cell_type": "markdown",
   "metadata": {},
   "source": [
    "\n",
    "# 5. System Architecture / Platform Architecture\n",
    "Ties together all components of a full system (CPU, memory, bus, I/O, firmware).\n",
    "\n",
    "## 5.1 Platforms\n",
    "|Platform|Definitions|\n",
    "|-|-|\n",
    "|x86 platform       |Defines BIOS, ACPI, UEFI, PCI layout, etc.|\n",
    "|ARM SoC platform   |Defines how CPUs, GPU, RAM, peripherals are connected|\n",
    "|RISC-V platforms   |Still emerging; uses things like Device Tree to describe layout|\n",
    "\n",
    "## 5.2 Standards and tools\n",
    "- ACPI (Advanced Configuration and Power Interface) — system description for x86/UEFI\n",
    "- Device Tree (used in Linux for ARM and RISC-V)\n",
    "- UEFI specs\n",
    "- SoC vendor documentation"
   ]
  },
  {
   "cell_type": "markdown",
   "metadata": {},
   "source": [
    "# 6. Firmware & Boot Architecture\n",
    "Describes how the system powers on and prepares for the OS.\n",
    "\n",
    "Standards include:\n",
    "- BIOS / UEFI (x86)\n",
    "- Coreboot (open source firmware)\n",
    "- OpenSBI (RISC-V boot interface)\n",
    "- Bootloaders: GRUB, U-Boot, etc."
   ]
  }
 ],
 "metadata": {
  "kernelspec": {
   "display_name": ".venv",
   "language": "python",
   "name": "python3"
  },
  "language_info": {
   "codemirror_mode": {
    "name": "ipython",
    "version": 3
   },
   "file_extension": ".py",
   "mimetype": "text/x-python",
   "name": "python",
   "nbconvert_exporter": "python",
   "pygments_lexer": "ipython3",
   "version": "3.13.3"
  }
 },
 "nbformat": 4,
 "nbformat_minor": 2
}
