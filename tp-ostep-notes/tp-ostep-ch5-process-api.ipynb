{
 "cells": [
  {
   "cell_type": "markdown",
   "metadata": {},
   "source": [
    "# Interlude: Process API\n",
    "\n",
    "`UNIX` create process\n",
    "- `fork()`\n",
    "- `exec()`\n",
    "- `wait`"
   ]
  },
  {
   "cell_type": "markdown",
   "metadata": {},
   "source": [
    "# CRUX: HOW TO CREATE AND CONTROL PROCESSES\n",
    "What OS interfaces:\n",
    "- for process creation\n",
    "- for process control\n",
    "\n",
    "Design of OS interfaaces:\n",
    "- for powerful functionality\n",
    "- ease of use\n",
    "- high performance\n",
    "\n",
    "# 0. Sections\n",
    "- fork() system call\n",
    "    - PID\n",
    "    - parent\n",
    "    - child\n",
    "    - non-determinism\n",
    "    - CPU scheduler\n",
    "    - multi-threaded programs\n",
    "    - concurrency\n",
    "- wait() system call\n",
    "    - waitpid()\n",
    "    - deterministic\n",
    "- exec() system call\n",
    "    - different program\n",
    "- The API\n",
    "    - after fork() before exec()\n",
    "    - alter environemnt\n",
    "    - redirection\n",
    "    - standard output\n",
    "    - open()\n",
    "    - pipe()\n",
    "    - kernel pipe (queue)\n",
    "    - grep\n",
    "- Process Control & Users\n",
    "    - kill()\n",
    "    - signals\n",
    "    - SIGINT (interupt)\n",
    "    - SINGSTP (stop)\n",
    "    - fg\n",
    "    - process groups\n",
    "- Useful Tools\n",
    "    - ps\n",
    "    - man pages\n",
    "    - top\n",
    "    - spawn"
   ]
  },
  {
   "cell_type": "markdown",
   "metadata": {
    "vscode": {
     "languageId": "plaintext"
    }
   },
   "source": [
    "# 1. `fork()` System Call"
   ]
  },
  {
   "cell_type": "code",
   "execution_count": null,
   "metadata": {
    "vscode": {
     "languageId": "plaintext"
    }
   },
   "outputs": [],
   "source": []
  },
  {
   "cell_type": "code",
   "execution_count": null,
   "metadata": {
    "vscode": {
     "languageId": "plaintext"
    }
   },
   "outputs": [],
   "source": [
    "vocab:\n",
    "- forewarned\n",
    "- interlude\n",
    "- aside"
   ]
  }
 ],
 "metadata": {
  "kernelspec": {
   "display_name": ".venv",
   "language": "python",
   "name": "python3"
  },
  "language_info": {
   "codemirror_mode": {
    "name": "ipython",
    "version": 3
   },
   "file_extension": ".py",
   "mimetype": "text/x-python",
   "name": "python",
   "nbconvert_exporter": "python",
   "pygments_lexer": "ipython3",
   "version": "3.13.3"
  }
 },
 "nbformat": 4,
 "nbformat_minor": 2
}
