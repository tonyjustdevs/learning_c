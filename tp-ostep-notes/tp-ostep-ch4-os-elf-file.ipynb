{
 "cells": [
  {
   "cell_type": "markdown",
   "metadata": {},
   "source": [
    "# ELF-File"
   ]
  },
  {
   "cell_type": "markdown",
   "metadata": {},
   "source": [
    "\n",
    "- `/bin/ls`: Pick ELF file\n",
    "- `file`  \n",
    "- `gcc -no-pie -o hello hello.c`\n"
   ]
  },
  {
   "cell_type": "markdown",
   "metadata": {},
   "source": [
    "# 1. Why `-no-pie` 🥧? \n",
    "`-no-pie` disables generation of a Position Independent Executable (PIE):\n",
    "    - PIE: binary can be loaded at different memory addresses each time its run\n",
    "    - NO-PIE: traditional fixed-address executable\n",
    "\n",
    "**Use-cases**:\n",
    "- Writing low-level code interacting with **fixed memory addresses**\n",
    "    - OS kernels, \n",
    "    - bootloaders, or \n",
    "    - systems programming tasks.\n",
    "- Reverse-engineering memory layout\n",
    "    - learning assembly, \n",
    "    - debugging, \n",
    "    - writing shellcode.\n",
    "- Linking with older code or tools that don’t support PIE."
   ]
  },
  {
   "cell_type": "markdown",
   "metadata": {},
   "source": [
    "# 2. Traditional Executables (`-no-pie`)\n",
    "Compiled executables have **fixed memory layout**:\n",
    "- All sections (`.text`, `.data.`, `.bss` etc) loaded at\n",
    "- ***Same Memory Addresses*** **every time** program is run.\n",
    "- Function addresses are **predictable**\n",
    "\n"
   ]
  },
  {
   "cell_type": "markdown",
   "metadata": {
    "vscode": {
     "languageId": "shellscript"
    }
   },
   "source": [
    "`say_hello()` will always be loaded at address `0x401136`.\n",
    "- Terminal: `gcc -no-pie -o hello_no_pie hello.c`\n",
    "- Terminal: `nm hello_no_pie | grep say_hello`\n",
    "- Output: `0000000000401136 T say_hello`\n"
   ]
  },
  {
   "cell_type": "markdown",
   "metadata": {},
   "source": [
    "# 3. Who cares about **Memory Addresses**?\n",
    "At hardware level, everything is just memory:\n",
    "- code\n",
    "- variables\n",
    "- strings\n",
    "\n",
    "Are all:\n",
    "- bytes stored\n",
    "- at different memory addresses\n",
    "\n",
    "When CPU runs code: \n",
    "- Jumps from one memory address to another\n",
    "- Executing instructions stored there."
   ]
  },
  {
   "cell_type": "markdown",
   "metadata": {},
   "source": [
    "# 4. How are Memory Addresses used?\n",
    "When a program is compiled, its split into **sections** in memory:\n"
   ]
  },
  {
   "cell_type": "raw",
   "metadata": {
    "vscode": {
     "languageId": "raw"
    }
   },
   "source": [
    "+-------------------------+\n",
    "| Text (code) section     |  ← contains function machine code\n",
    "+-------------------------+\n",
    "| Data section            |  ← initialized global variables\n",
    "+-------------------------+\n",
    "| BSS section             |  ← uninitialized global variables\n",
    "+-------------------------+\n",
    "| Heap                    |  ← dynamically allocated memory (malloc)\n",
    "+-------------------------+\n",
    "| Stack                   |  ← function call frames and local vars\n",
    "+-------------------------+"
   ]
  },
  {
   "cell_type": "markdown",
   "metadata": {
    "vscode": {
     "languageId": "raw"
    }
   },
   "source": [
    "Steps\n",
    "- create: `tiny.c`\n",
    "- compile: `gcc -no-pie -o tiny_no_pie tiny.c` (fixed addys)\n",
    "- inspect ELF file: `readelf -S tiny_no_pie`\n"
   ]
  },
  {
   "cell_type": "raw",
   "metadata": {
    "vscode": {
     "languageId": "raw"
    }
   },
   "source": [
    "There are 31 section headers, starting at offset 0x36c0:\n",
    "\n",
    "Section Headers:\n",
    "  [Nr] Name              Type             Address           Offset\n",
    "       Size              EntSize          Flags  Link  Info  Align\n",
    "  [ 0]                   NULL             0000000000000000  00000000\n",
    "       0000000000000000  0000000000000000           0     0     0\n",
    "  [ 1] .interp           PROGBITS         0000000000400318  00000318\n",
    "       000000000000001c  0000000000000000   A       0     0     1\n",
    "  [ 2] .note.gnu.pr[...] NOTE             0000000000400338  00000338\n",
    "       0000000000000030  0000000000000000   A       0     0     8\n",
    "  [ 3] .note.gnu.bu[...] NOTE             0000000000400368  00000368\n",
    "       0000000000000024  0000000000000000   A       0     0     4\n",
    "  [ 4] .note.ABI-tag     NOTE             000000000040038c  0000038c\n",
    "       0000000000000020  0000000000000000   A       0     0     4\n",
    "  [ 5] .gnu.hash         GNU_HASH         00000000004003b0  000003b0\n",
    "       000000000000001c  0000000000000000   A       6     0     8\n",
    "  [ 6] .dynsym           DYNSYM           00000000004003d0  000003d0\n",
    "       0000000000000060  0000000000000018   A       7     1     8\n",
    "  [ 7] .dynstr           STRTAB           0000000000400430  00000430\n",
    "       0000000000000048  0000000000000000   A       0     0     1\n",
    "  [ 8] .gnu.version      VERSYM           0000000000400478  00000478\n",
    "       0000000000000008  0000000000000002   A       6     0     2\n",
    "  [ 9] .gnu.version_r    VERNEED          0000000000400480  00000480\n",
    "       0000000000000030  0000000000000000   A       7     1     8\n",
    "  [10] .rela.dyn         RELA             00000000004004b0  000004b0\n",
    "       0000000000000030  0000000000000018   A       6     0     8\n",
    "  [11] .rela.plt         RELA             00000000004004e0  000004e0\n",
    "       0000000000000018  0000000000000018  AI       6    24     8\n",
    "  [12] .init             PROGBITS         0000000000401000  00001000\n",
    "       000000000000001b  0000000000000000  AX       0     0     4\n",
    "  [13] .plt              PROGBITS         0000000000401020  00001020\n",
    "       0000000000000020  0000000000000010  AX       0     0     16\n",
    "  [14] .plt.sec          PROGBITS         0000000000401040  00001040\n",
    "       0000000000000010  0000000000000010  AX       0     0     16\n",
    "  [15] .text             PROGBITS         0000000000401050  00001050\n",
    "       0000000000000119  0000000000000000  AX       0     0     16\n",
    "  [16] .fini             PROGBITS         000000000040116c  0000116c\n",
    "       000000000000000d  0000000000000000  AX       0     0     4\n",
    "  [17] .rodata           PROGBITS         0000000000402000  00002000\n",
    "       0000000000000010  0000000000000000   A       0     0     4\n",
    "  [18] .eh_frame_hdr     PROGBITS         0000000000402010  00002010\n",
    "       000000000000003c  0000000000000000   A       0     0     4\n",
    "  [19] .eh_frame         PROGBITS         0000000000402050  00002050\n",
    "       00000000000000c4  0000000000000000   A       0     0     8\n",
    "  [20] .init_array       INIT_ARRAY       0000000000403e10  00002e10\n",
    "       0000000000000008  0000000000000008  WA       0     0     8\n",
    "  [21] .fini_array       FINI_ARRAY       0000000000403e18  00002e18\n",
    "       0000000000000008  0000000000000008  WA       0     0     8\n",
    "  [22] .dynamic          DYNAMIC          0000000000403e20  00002e20\n",
    "       00000000000001d0  0000000000000010  WA       7     0     8\n",
    "  [23] .got              PROGBITS         0000000000403ff0  00002ff0\n",
    "       0000000000000010  0000000000000008  WA       0     0     8\n",
    "  [24] .got.plt          PROGBITS         0000000000404000  00003000\n",
    "       0000000000000020  0000000000000008  WA       0     0     8\n",
    "  [25] .data             PROGBITS         0000000000404020  00003020\n",
    "       0000000000000014  0000000000000000  WA       0     0     8\n",
    "  [26] .bss              NOBITS           0000000000404034  00003034\n",
    "       000000000000000c  0000000000000000  WA       0     0     4\n",
    "  [27] .comment          PROGBITS         0000000000000000  00003034\n",
    "       000000000000002b  0000000000000001  MS       0     0     1\n",
    "  [28] .symtab           SYMTAB           0000000000000000  00003060\n",
    "       0000000000000378  0000000000000018          29    18     8\n",
    "  [29] .strtab           STRTAB           0000000000000000  000033d8\n",
    "       00000000000001c3  0000000000000000           0     0     1\n",
    "  [30] .shstrtab         STRTAB           0000000000000000  0000359b\n",
    "       000000000000011f  0000000000000000           0     0     1\n",
    "Key to Flags:\n",
    "  W (write), A (alloc), X (execute), M (merge), S (strings), I (info),\n",
    "  L (link order), O (extra OS processing required), G (group), T (TLS),\n",
    "  C (compressed), x (unknown), o (OS specific), E (exclude),\n",
    "  D (mbind), l (large), p (processor specific)\n"
   ]
  },
  {
   "cell_type": "raw",
   "metadata": {
    "vscode": {
     "languageId": "raw"
    }
   },
   "source": [
    "There are 31 section headers, starting at offset 0x36c0:\n",
    "\n",
    "Section Headers:\n",
    "  [Nr] Name              Type             Address           Offset\n",
    "       Size              EntSize          Flags  Link  Info  Align\n",
    "...\n",
    "  [15] .text             PROGBITS         0000000000401050  00001050\n",
    "       0000000000000119  0000000000000000  AX       0     0     16\n",
    "  [25] .data             PROGBITS         0000000000404020  00003020\n",
    "       0000000000000014  0000000000000000  WA       0     0     8\n",
    "  [26] .bss              NOBITS           0000000000404034  00003034\n",
    "       000000000000000c  0000000000000000  WA       0     0     4"
   ]
  },
  {
   "cell_type": "markdown",
   "metadata": {},
   "source": [
    "Disassemble to see fns & their addys `objdump -d tiny_no_pie`       \n",
    "Hex dump the binary to see layout: `xxd -g 1 tiny | less`"
   ]
  },
  {
   "cell_type": "markdown",
   "metadata": {},
   "source": [
    "readelf -l tiny\n",
    "\n",
    "The binary is saying:\n",
    "\n",
    "    “Please map this file segment into memory starting at 0x400000”\n"
   ]
  },
  {
   "cell_type": "markdown",
   "metadata": {
    "vscode": {
     "languageId": "raw"
    }
   },
   "source": [
    "# 5. Why Do the Virtual Memory Address Look Similar?\n",
    "## 5.1 Memory Sizes Primer\n",
    "\n",
    "[] =  $1$ bit  \n",
    "[][][][]-[][][][] \n",
    "- = $8$ bits \n",
    "- = $2^8$ combindations from $8$ bits\n",
    "- = $256$ \n",
    "- = 0 to 255 values\n",
    "- = 1 bytes  \n",
    "\n",
    "$1$ kilobyte or $1$ KB:\n",
    "- = $2^{10}$ bytes \n",
    "- = $1024$ bytes \n",
    "- = $1024 * 8$ bits\n",
    "- = $8192$ bits\n",
    "\n",
    "\n"
   ]
  },
  {
   "cell_type": "code",
   "execution_count": null,
   "metadata": {},
   "outputs": [
    {
     "name": "stdout",
     "output_type": "stream",
     "text": [
      "0: 1\n",
      "1: 2\n",
      "2: 4\n",
      "3: 8\n",
      "4: 16\n",
      "5: 32\n",
      "6: 64\n",
      "7: 128\n",
      "8: 256\n",
      "9: 512\n",
      "10: 1024\n"
     ]
    }
   ],
   "source": [
    "\n",
    "# 1 kb = 8 bits (binary)\n",
    "# [][]-[][][][]-[][][][]\n",
    "# [1][]-[][][][]-[][][][] = 1024 bits\n",
    "\n",
    "\n",
    "for i in range(0,11):\n",
    "    print(f\"{i}: {2**i}\")"
   ]
  },
  {
   "cell_type": "markdown",
   "metadata": {},
   "source": [
    "compile: `gcc -no-pie -o tiny tiny.c`\n",
    "- **Default Linker Script** is run or **linker** (e.g. GNU `ld`)\n",
    "    - Place `ELF Headers` first???\n",
    "    - Then place `.text` (code) section at `0x400000`\n",
    "- **Result**:\n",
    "    - `0x400000` → `ELF` headers and entry point\n",
    "    - `0x401000` → `.text` section starts\n",
    "        - Add other boiler plate code setup (`_start`, `main`, `libc` )\n",
    "    - `0x401136` → your `hello()` function (after some startup code)\n"
   ]
  },
  {
   "cell_type": "markdown",
   "metadata": {
    "vscode": {
     "languageId": "raw"
    }
   },
   "source": []
  }
 ],
 "metadata": {
  "kernelspec": {
   "display_name": ".venv",
   "language": "python",
   "name": "python3"
  },
  "language_info": {
   "codemirror_mode": {
    "name": "ipython",
    "version": 3
   },
   "file_extension": ".py",
   "mimetype": "text/x-python",
   "name": "python",
   "nbconvert_exporter": "python",
   "pygments_lexer": "ipython3",
   "version": "3.13.3"
  }
 },
 "nbformat": 4,
 "nbformat_minor": 2
}
