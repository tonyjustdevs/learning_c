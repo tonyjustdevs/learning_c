{
 "cells": [
  {
   "cell_type": "markdown",
   "metadata": {
    "vscode": {
     "languageId": "plaintext"
    }
   },
   "source": [
    "# Mechanism: Limited Direct Execution\n",
    "\n",
    "#### Intro\n",
    "- time-sharing\n",
    "\n",
    "#### Challenges\n",
    "- performance\n",
    "- control\n",
    "\n",
    "#### Crux\n",
    "OS virtualise CPU \n",
    "- efficiently\n",
    "- retain control\n",
    "- use hardware support"
   ]
  },
  {
   "cell_type": "markdown",
   "metadata": {},
   "source": [
    "# 0. Contents\n",
    "\n",
    "- Basic Technique - Limited Direct Execution\n",
    "    - Direct Execution Protocol (without limtis)\n",
    "- Problem 1: Restricted Operations\n",
    "    - [crux] How to perform restricted ops\n",
    "    - without giving total control\n",
    "    - Aside: system calls vs procedure calls\n",
    "        - famous trap instruction\n",
    "    - processor modes\n",
    "        - user mode\n",
    "        - kernel mode\n",
    "    - atlas\n",
    "    - Tip: protected control transfer\n",
    "        - trap\n",
    "        - return-from-trap\n",
    "        - trap table\n",
    "        - POSIX standard\n",
    "    - per-process kernel stack\n",
    "    - trap handlers\n",
    "    - Tip: User Input \n",
    "        - write()\n",
    "    - system-call number\n",
    "    - indirection protection\n",
    "    - priveledge operation\n",
    "    - limited direct execution (lde) protocol\n",
    "    - exit()\n",
    "- Problem 2: Switching Between Processes\n",
    "    - Crux: How OS to regain control CPU between process switches\n",
    "    - Cooperative Appproach: Wait for Sys-Calls\n",
    "        - explicity yield system call\n",
    "    - Non-Cooperative Approach: OS Takes Control\n",
    "        - reboot machine\n",
    "        - Crux: How OS regain control with uncooperative\n",
    "        - timer interrupt\n",
    "        - interrupt handler\n",
    "        - Tip: Terminal Application Misbehaviour\n",
    "    - Saving and Restoring Context\n",
    "        - scheduler\n",
    "        - context switch\n",
    "        - currently-executing process\n",
    "        - soon-to-be-executing process\n",
    "        - Tip: Reboot\n",
    "        - Limited Direct Execution Protocol (Time Interrupt) Timeline\n",
    "        - user registers\n",
    "        - hardware\n",
    "        - kernel registers\n",
    "        - software\n",
    "        - context structures\n",
    "- Concurrency\n",
    "    - disable interrupts\n",
    "    - xv6 context switch code\n",
    "    - locking schemes\n",
    "    - Aside: how long do context switches take\n",
    "    - lmbench\n",
    "    - baby proofing\n",
    "\n",
    "- Homework\n",
    "    - sched_setaffinity()\n"
   ]
  },
  {
   "cell_type": "code",
   "execution_count": null,
   "metadata": {
    "vscode": {
     "languageId": "plaintext"
    }
   },
   "outputs": [],
   "source": [
    "- judicious"
   ]
  }
 ],
 "metadata": {
  "kernelspec": {
   "display_name": ".venv",
   "language": "python",
   "name": "python3"
  },
  "language_info": {
   "codemirror_mode": {
    "name": "ipython",
    "version": 3
   },
   "file_extension": ".py",
   "mimetype": "text/x-python",
   "name": "python",
   "nbconvert_exporter": "python",
   "pygments_lexer": "ipython3",
   "version": "3.13.3"
  }
 },
 "nbformat": 4,
 "nbformat_minor": 2
}
